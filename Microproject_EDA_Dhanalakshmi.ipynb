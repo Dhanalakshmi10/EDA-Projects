{
 "cells": [
  {
   "cell_type": "markdown",
   "id": "dd5af301",
   "metadata": {},
   "source": [
    "# EDA and FE MICROPROJECT_DHANALAKSHMI. 10drossdl@gmail.com"
   ]
  },
  {
   "cell_type": "markdown",
   "id": "d92c8e1e",
   "metadata": {},
   "source": [
    "## DATA LOADING AND PACKAGES IMPORTING"
   ]
  },
  {
   "cell_type": "code",
   "execution_count": 1,
   "id": "a88756e1",
   "metadata": {},
   "outputs": [],
   "source": [
    "#All the necessary packages are imported\n",
    "import pandas as pd\n",
    "import numpy as np\n",
    "import os\n",
    "import warnings\n",
    "warnings.filterwarnings('ignore')\n",
    "import matplotlib.pyplot as plt\n",
    "import seaborn as sns"
   ]
  },
  {
   "cell_type": "code",
   "execution_count": 4,
   "id": "e22a8bba",
   "metadata": {},
   "outputs": [],
   "source": [
    "#Loading the data files\n",
    "df1=pd.read_csv('./age_band.csv',sep='\\\\t',error_bad_lines=False) #loading the age_band data file.  \n",
    "# Error_bad lines is set to False as we want the error causing rows to be dropped and only that data frame is returned.\n",
    "df2=pd.read_excel('./car_loan.xlsx',sheet_name='Sheet1') \n",
    "df3=pd.read_excel('./car_loan.xlsx',sheet_name='Sheet2')"
   ]
  },
  {
   "cell_type": "code",
   "execution_count": 5,
   "id": "c9013086",
   "metadata": {},
   "outputs": [
    {
     "data": {
      "text/html": [
       "<div>\n",
       "<style scoped>\n",
       "    .dataframe tbody tr th:only-of-type {\n",
       "        vertical-align: middle;\n",
       "    }\n",
       "\n",
       "    .dataframe tbody tr th {\n",
       "        vertical-align: top;\n",
       "    }\n",
       "\n",
       "    .dataframe thead th {\n",
       "        text-align: right;\n",
       "    }\n",
       "</style>\n",
       "<table border=\"1\" class=\"dataframe\">\n",
       "  <thead>\n",
       "    <tr style=\"text-align: right;\">\n",
       "      <th></th>\n",
       "      <th>\"cust.ID</th>\n",
       "      <th>age-band</th>\n",
       "      <th>Debt.To.Income.Ratio\",</th>\n",
       "    </tr>\n",
       "  </thead>\n",
       "  <tbody>\n",
       "    <tr>\n",
       "      <th>0</th>\n",
       "      <td>\"84563</td>\n",
       "      <td>25-39</td>\n",
       "      <td>0!\",</td>\n",
       "    </tr>\n",
       "    <tr>\n",
       "      <th>1</th>\n",
       "      <td>\"78765</td>\n",
       "      <td>25-40</td>\n",
       "      <td>13.76!\",</td>\n",
       "    </tr>\n",
       "    <tr>\n",
       "      <th>2</th>\n",
       "      <td>\"24590</td>\n",
       "      <td>25-41</td>\n",
       "      <td>8.77!\",</td>\n",
       "    </tr>\n",
       "    <tr>\n",
       "      <th>3</th>\n",
       "      <td>\"9061</td>\n",
       "      <td>25-42</td>\n",
       "      <td>12.24!\",</td>\n",
       "    </tr>\n",
       "    <tr>\n",
       "      <th>4</th>\n",
       "      <td>\"47011</td>\n",
       "      <td>25-43</td>\n",
       "      <td>16.41!\",</td>\n",
       "    </tr>\n",
       "  </tbody>\n",
       "</table>\n",
       "</div>"
      ],
      "text/plain": [
       "  \"cust.ID age-band  Debt.To.Income.Ratio\",\n",
       "0   \"84563     25-39                   0!\",\n",
       "1   \"78765     25-40               13.76!\",\n",
       "2   \"24590     25-41                8.77!\",\n",
       "3    \"9061     25-42               12.24!\",\n",
       "4   \"47011     25-43               16.41!\","
      ]
     },
     "execution_count": 5,
     "metadata": {},
     "output_type": "execute_result"
    }
   ],
   "source": [
    "df1.head() # age band data. We see that the columns have special characters. Need to rename in the next step of data processing"
   ]
  },
  {
   "cell_type": "code",
   "execution_count": 6,
   "id": "caa428b9",
   "metadata": {},
   "outputs": [
    {
     "data": {
      "text/html": [
       "<div>\n",
       "<style scoped>\n",
       "    .dataframe tbody tr th:only-of-type {\n",
       "        vertical-align: middle;\n",
       "    }\n",
       "\n",
       "    .dataframe tbody tr th {\n",
       "        vertical-align: top;\n",
       "    }\n",
       "\n",
       "    .dataframe thead th {\n",
       "        text-align: right;\n",
       "    }\n",
       "</style>\n",
       "<table border=\"1\" class=\"dataframe\">\n",
       "  <thead>\n",
       "    <tr style=\"text-align: right;\">\n",
       "      <th></th>\n",
       "      <th>cust.ID</th>\n",
       "      <th>Amount.Requested for loan</th>\n",
       "      <th>Amount.Funded.By.Investors to bank</th>\n",
       "      <th>Interest.Rate</th>\n",
       "      <th>Loan duration</th>\n",
       "    </tr>\n",
       "  </thead>\n",
       "  <tbody>\n",
       "    <tr>\n",
       "      <th>0</th>\n",
       "      <td>84563.0</td>\n",
       "      <td>8000</td>\n",
       "      <td>8000</td>\n",
       "      <td>7.62#</td>\n",
       "      <td>36 months</td>\n",
       "    </tr>\n",
       "    <tr>\n",
       "      <th>1</th>\n",
       "      <td>78765.0</td>\n",
       "      <td>9000</td>\n",
       "      <td>9000</td>\n",
       "      <td>10.16#</td>\n",
       "      <td>36 months</td>\n",
       "    </tr>\n",
       "    <tr>\n",
       "      <th>2</th>\n",
       "      <td>24590.0</td>\n",
       "      <td>13000</td>\n",
       "      <td>12975</td>\n",
       "      <td>9.99#</td>\n",
       "      <td>60 months</td>\n",
       "    </tr>\n",
       "    <tr>\n",
       "      <th>3</th>\n",
       "      <td>9061.0</td>\n",
       "      <td>10000</td>\n",
       "      <td>10000</td>\n",
       "      <td>14.22#</td>\n",
       "      <td>36 months</td>\n",
       "    </tr>\n",
       "    <tr>\n",
       "      <th>4</th>\n",
       "      <td>47011.0</td>\n",
       "      <td>3600</td>\n",
       "      <td>3600</td>\n",
       "      <td>13.67#</td>\n",
       "      <td>36 months</td>\n",
       "    </tr>\n",
       "  </tbody>\n",
       "</table>\n",
       "</div>"
      ],
      "text/plain": [
       "   cust.ID Amount.Requested for loan Amount.Funded.By.Investors to bank  \\\n",
       "0  84563.0                      8000                               8000   \n",
       "1  78765.0                      9000                               9000   \n",
       "2  24590.0                     13000                              12975   \n",
       "3   9061.0                     10000                              10000   \n",
       "4  47011.0                      3600                               3600   \n",
       "\n",
       "  Interest.Rate Loan duration  \n",
       "0         7.62#     36 months  \n",
       "1        10.16#     36 months  \n",
       "2         9.99#     60 months  \n",
       "3        14.22#     36 months  \n",
       "4        13.67#     36 months  "
      ]
     },
     "execution_count": 6,
     "metadata": {},
     "output_type": "execute_result"
    }
   ],
   "source": [
    "df2.head() # car loan file's 1st sheet."
   ]
  },
  {
   "cell_type": "code",
   "execution_count": 7,
   "id": "9c3499f7",
   "metadata": {},
   "outputs": [
    {
     "data": {
      "text/html": [
       "<div>\n",
       "<style scoped>\n",
       "    .dataframe tbody tr th:only-of-type {\n",
       "        vertical-align: middle;\n",
       "    }\n",
       "\n",
       "    .dataframe tbody tr th {\n",
       "        vertical-align: top;\n",
       "    }\n",
       "\n",
       "    .dataframe thead th {\n",
       "        text-align: right;\n",
       "    }\n",
       "</style>\n",
       "<table border=\"1\" class=\"dataframe\">\n",
       "  <thead>\n",
       "    <tr style=\"text-align: right;\">\n",
       "      <th></th>\n",
       "      <th>cust.ID</th>\n",
       "      <th>Family_incomeIncome</th>\n",
       "      <th>credit_score</th>\n",
       "      <th>Employment.Length</th>\n",
       "      <th>owning a two wheeler</th>\n",
       "    </tr>\n",
       "  </thead>\n",
       "  <tbody>\n",
       "    <tr>\n",
       "      <th>0</th>\n",
       "      <td>84563.0</td>\n",
       "      <td>3500</td>\n",
       "      <td>765-769</td>\n",
       "      <td>NaN</td>\n",
       "      <td>yes</td>\n",
       "    </tr>\n",
       "    <tr>\n",
       "      <th>1</th>\n",
       "      <td>78765.0</td>\n",
       "      <td>5166.67</td>\n",
       "      <td>710-714</td>\n",
       "      <td>10 + years</td>\n",
       "      <td>no</td>\n",
       "    </tr>\n",
       "    <tr>\n",
       "      <th>2</th>\n",
       "      <td>24590.0</td>\n",
       "      <td>10500</td>\n",
       "      <td>800-804</td>\n",
       "      <td>10+ years</td>\n",
       "      <td>yes</td>\n",
       "    </tr>\n",
       "    <tr>\n",
       "      <th>3</th>\n",
       "      <td>9061.0</td>\n",
       "      <td>2541.67</td>\n",
       "      <td>680-684</td>\n",
       "      <td>8 years</td>\n",
       "      <td>no</td>\n",
       "    </tr>\n",
       "    <tr>\n",
       "      <th>4</th>\n",
       "      <td>47011.0</td>\n",
       "      <td>5113</td>\n",
       "      <td>690-694</td>\n",
       "      <td>NaN</td>\n",
       "      <td>yes</td>\n",
       "    </tr>\n",
       "  </tbody>\n",
       "</table>\n",
       "</div>"
      ],
      "text/plain": [
       "   cust.ID Family_incomeIncome credit_score Employment.Length  \\\n",
       "0  84563.0                3500      765-769               NaN   \n",
       "1  78765.0             5166.67      710-714        10 + years   \n",
       "2  24590.0               10500      800-804         10+ years   \n",
       "3   9061.0             2541.67      680-684           8 years   \n",
       "4  47011.0                5113      690-694               NaN   \n",
       "\n",
       "  owning a two wheeler  \n",
       "0                 yes   \n",
       "1                   no  \n",
       "2                 yes   \n",
       "3                   no  \n",
       "4                 yes   "
      ]
     },
     "execution_count": 7,
     "metadata": {},
     "output_type": "execute_result"
    }
   ],
   "source": [
    "df3.head() #car loan file's 2nd sheet"
   ]
  },
  {
   "cell_type": "markdown",
   "id": "c4a6d2b7",
   "metadata": {},
   "source": [
    "## PART 1\n",
    "### Question 1.\n",
    "* Check for duplicate columns & remove them\n",
    "* If you want you can drop column/columns (Mention the reason for the same for removing or not)"
   ]
  },
  {
   "cell_type": "code",
   "execution_count": 14,
   "id": "2fee598f",
   "metadata": {},
   "outputs": [],
   "source": [
    "# Renaming all columns of the file for better reading.\n",
    "df1.columns=['Customer_ID','Age_Band','Debt_To_Income_Ratio'] #renaming this as customer id and not cust id as i want to drop the other two.\n",
    "\n",
    "df2.columns=['Cust_ID','Amount_Requested_Loan','Amount_Funded_By_Investors','Interest_Rate','Loan_Duration']\n",
    "\n",
    "df3.columns=['Cust_ID', 'Family_Income', 'Credit_Score', 'Employment_Length',\n",
    "       'Owning_Two_Wheeler']\n",
    "\n",
    "# we can also rename the columns by using datafram.rename, \n",
    "#as we pass the new names in a dictonary with original name as key and new name as value."
   ]
  },
  {
   "cell_type": "code",
   "execution_count": 15,
   "id": "c27d26f7",
   "metadata": {},
   "outputs": [
    {
     "name": "stdout",
     "output_type": "stream",
     "text": [
      "<class 'pandas.core.frame.DataFrame'>\n",
      "RangeIndex: 2186 entries, 0 to 2185\n",
      "Data columns (total 3 columns):\n",
      " #   Column                Non-Null Count  Dtype \n",
      "---  ------                --------------  ----- \n",
      " 0   Customer_ID           2186 non-null   object\n",
      " 1   Age_Band              2183 non-null   object\n",
      " 2   Debt_To_Income_Ratio  2186 non-null   object\n",
      "dtypes: object(3)\n",
      "memory usage: 51.4+ KB\n"
     ]
    }
   ],
   "source": [
    "df1.info() #checking if changes have been made correctly and also getting information about the data."
   ]
  },
  {
   "cell_type": "code",
   "execution_count": 16,
   "id": "77b61882",
   "metadata": {},
   "outputs": [
    {
     "name": "stdout",
     "output_type": "stream",
     "text": [
      "<class 'pandas.core.frame.DataFrame'>\n",
      "RangeIndex: 2186 entries, 0 to 2185\n",
      "Data columns (total 5 columns):\n",
      " #   Column                      Non-Null Count  Dtype  \n",
      "---  ------                      --------------  -----  \n",
      " 0   Cust_ID                     2185 non-null   float64\n",
      " 1   Amount_Requested_Loan       2185 non-null   object \n",
      " 2   Amount_Funded_By_Investors  2185 non-null   object \n",
      " 3   Interest_Rate               2186 non-null   object \n",
      " 4   Loan_Duration               2185 non-null   object \n",
      "dtypes: float64(1), object(4)\n",
      "memory usage: 85.5+ KB\n"
     ]
    }
   ],
   "source": [
    "df2.info()"
   ]
  },
  {
   "cell_type": "code",
   "execution_count": 17,
   "id": "7033b674",
   "metadata": {},
   "outputs": [
    {
     "name": "stdout",
     "output_type": "stream",
     "text": [
      "<class 'pandas.core.frame.DataFrame'>\n",
      "RangeIndex: 2186 entries, 0 to 2185\n",
      "Data columns (total 5 columns):\n",
      " #   Column              Non-Null Count  Dtype  \n",
      "---  ------              --------------  -----  \n",
      " 0   Cust_ID             2184 non-null   float64\n",
      " 1   Family_Income       2183 non-null   object \n",
      " 2   Credit_Score        2186 non-null   object \n",
      " 3   Employment_Length   2119 non-null   object \n",
      " 4   Owning_Two_Wheeler  2185 non-null   object \n",
      "dtypes: float64(1), object(4)\n",
      "memory usage: 85.5+ KB\n"
     ]
    }
   ],
   "source": [
    "df3.info()"
   ]
  },
  {
   "cell_type": "code",
   "execution_count": 18,
   "id": "dd6a61dc",
   "metadata": {},
   "outputs": [
    {
     "data": {
      "text/html": [
       "<div>\n",
       "<style scoped>\n",
       "    .dataframe tbody tr th:only-of-type {\n",
       "        vertical-align: middle;\n",
       "    }\n",
       "\n",
       "    .dataframe tbody tr th {\n",
       "        vertical-align: top;\n",
       "    }\n",
       "\n",
       "    .dataframe thead th {\n",
       "        text-align: right;\n",
       "    }\n",
       "</style>\n",
       "<table border=\"1\" class=\"dataframe\">\n",
       "  <thead>\n",
       "    <tr style=\"text-align: right;\">\n",
       "      <th></th>\n",
       "      <th>Customer_ID</th>\n",
       "      <th>Age_Band</th>\n",
       "      <th>Debt_To_Income_Ratio</th>\n",
       "      <th>Cust_ID</th>\n",
       "      <th>Amount_Requested_Loan</th>\n",
       "      <th>Amount_Funded_By_Investors</th>\n",
       "      <th>Interest_Rate</th>\n",
       "      <th>Loan_Duration</th>\n",
       "      <th>Cust_ID</th>\n",
       "      <th>Family_Income</th>\n",
       "      <th>Credit_Score</th>\n",
       "      <th>Employment_Length</th>\n",
       "      <th>Owning_Two_Wheeler</th>\n",
       "    </tr>\n",
       "  </thead>\n",
       "  <tbody>\n",
       "    <tr>\n",
       "      <th>0</th>\n",
       "      <td>\"84563</td>\n",
       "      <td>25-39</td>\n",
       "      <td>0!\",</td>\n",
       "      <td>84563.0</td>\n",
       "      <td>8000</td>\n",
       "      <td>8000</td>\n",
       "      <td>7.62#</td>\n",
       "      <td>36 months</td>\n",
       "      <td>84563.0</td>\n",
       "      <td>3500</td>\n",
       "      <td>765-769</td>\n",
       "      <td>NaN</td>\n",
       "      <td>yes</td>\n",
       "    </tr>\n",
       "    <tr>\n",
       "      <th>1</th>\n",
       "      <td>\"78765</td>\n",
       "      <td>25-40</td>\n",
       "      <td>13.76!\",</td>\n",
       "      <td>78765.0</td>\n",
       "      <td>9000</td>\n",
       "      <td>9000</td>\n",
       "      <td>10.16#</td>\n",
       "      <td>36 months</td>\n",
       "      <td>78765.0</td>\n",
       "      <td>5166.67</td>\n",
       "      <td>710-714</td>\n",
       "      <td>10 + years</td>\n",
       "      <td>no</td>\n",
       "    </tr>\n",
       "    <tr>\n",
       "      <th>2</th>\n",
       "      <td>\"24590</td>\n",
       "      <td>25-41</td>\n",
       "      <td>8.77!\",</td>\n",
       "      <td>24590.0</td>\n",
       "      <td>13000</td>\n",
       "      <td>12975</td>\n",
       "      <td>9.99#</td>\n",
       "      <td>60 months</td>\n",
       "      <td>24590.0</td>\n",
       "      <td>10500</td>\n",
       "      <td>800-804</td>\n",
       "      <td>10+ years</td>\n",
       "      <td>yes</td>\n",
       "    </tr>\n",
       "    <tr>\n",
       "      <th>3</th>\n",
       "      <td>\"9061</td>\n",
       "      <td>25-42</td>\n",
       "      <td>12.24!\",</td>\n",
       "      <td>9061.0</td>\n",
       "      <td>10000</td>\n",
       "      <td>10000</td>\n",
       "      <td>14.22#</td>\n",
       "      <td>36 months</td>\n",
       "      <td>9061.0</td>\n",
       "      <td>2541.67</td>\n",
       "      <td>680-684</td>\n",
       "      <td>8 years</td>\n",
       "      <td>no</td>\n",
       "    </tr>\n",
       "    <tr>\n",
       "      <th>4</th>\n",
       "      <td>\"47011</td>\n",
       "      <td>25-43</td>\n",
       "      <td>16.41!\",</td>\n",
       "      <td>47011.0</td>\n",
       "      <td>3600</td>\n",
       "      <td>3600</td>\n",
       "      <td>13.67#</td>\n",
       "      <td>36 months</td>\n",
       "      <td>47011.0</td>\n",
       "      <td>5113</td>\n",
       "      <td>690-694</td>\n",
       "      <td>NaN</td>\n",
       "      <td>yes</td>\n",
       "    </tr>\n",
       "    <tr>\n",
       "      <th>...</th>\n",
       "      <td>...</td>\n",
       "      <td>...</td>\n",
       "      <td>...</td>\n",
       "      <td>...</td>\n",
       "      <td>...</td>\n",
       "      <td>...</td>\n",
       "      <td>...</td>\n",
       "      <td>...</td>\n",
       "      <td>...</td>\n",
       "      <td>...</td>\n",
       "      <td>...</td>\n",
       "      <td>...</td>\n",
       "      <td>...</td>\n",
       "    </tr>\n",
       "    <tr>\n",
       "      <th>2181</th>\n",
       "      <td>\"101795</td>\n",
       "      <td>45-55</td>\n",
       "      <td>10.22!\",</td>\n",
       "      <td>101795.0</td>\n",
       "      <td>10000</td>\n",
       "      <td>550</td>\n",
       "      <td>10.59#</td>\n",
       "      <td>36 months</td>\n",
       "      <td>101795.0</td>\n",
       "      <td>2083.33</td>\n",
       "      <td>685-689</td>\n",
       "      <td>&lt; 1 year</td>\n",
       "      <td>no</td>\n",
       "    </tr>\n",
       "    <tr>\n",
       "      <th>2182</th>\n",
       "      <td>\"84805</td>\n",
       "      <td>45-55</td>\n",
       "      <td>27.07!\",</td>\n",
       "      <td>84805.0</td>\n",
       "      <td>13225</td>\n",
       "      <td>13225</td>\n",
       "      <td>15.31#</td>\n",
       "      <td>36 months</td>\n",
       "      <td>84805.0</td>\n",
       "      <td>5833.33</td>\n",
       "      <td>680-684</td>\n",
       "      <td>10+ years</td>\n",
       "      <td>yes</td>\n",
       "    </tr>\n",
       "    <tr>\n",
       "      <th>2183</th>\n",
       "      <td>\"101548</td>\n",
       "      <td>45-55</td>\n",
       "      <td>6.37!\",</td>\n",
       "      <td>101548.0</td>\n",
       "      <td>10000</td>\n",
       "      <td>525</td>\n",
       "      <td>14.7#</td>\n",
       "      <td>36 months</td>\n",
       "      <td>101548.0</td>\n",
       "      <td>5416.67</td>\n",
       "      <td>645-649</td>\n",
       "      <td>&lt; 1 year</td>\n",
       "      <td>no</td>\n",
       "    </tr>\n",
       "    <tr>\n",
       "      <th>2184</th>\n",
       "      <td>\"3209</td>\n",
       "      <td>45-55</td>\n",
       "      <td>15!\",</td>\n",
       "      <td>3209.0</td>\n",
       "      <td>12000</td>\n",
       "      <td>11725</td>\n",
       "      <td>9.63#</td>\n",
       "      <td>36 months</td>\n",
       "      <td>3209.0</td>\n",
       "      <td>3000</td>\n",
       "      <td>750-754</td>\n",
       "      <td>&lt; 1 year</td>\n",
       "      <td>yes</td>\n",
       "    </tr>\n",
       "    <tr>\n",
       "      <th>2185</th>\n",
       "      <td>\"42828</td>\n",
       "      <td>45-55</td>\n",
       "      <td>14.85!\",</td>\n",
       "      <td>42828.0</td>\n",
       "      <td>16000</td>\n",
       "      <td>16000</td>\n",
       "      <td>8.9#</td>\n",
       "      <td>36 months</td>\n",
       "      <td>42828.0</td>\n",
       "      <td>5750</td>\n",
       "      <td>725-729</td>\n",
       "      <td>6 years</td>\n",
       "      <td>no</td>\n",
       "    </tr>\n",
       "  </tbody>\n",
       "</table>\n",
       "<p>2186 rows × 13 columns</p>\n",
       "</div>"
      ],
      "text/plain": [
       "     Customer_ID Age_Band Debt_To_Income_Ratio   Cust_ID  \\\n",
       "0         \"84563    25-39                 0!\",   84563.0   \n",
       "1         \"78765    25-40             13.76!\",   78765.0   \n",
       "2         \"24590    25-41              8.77!\",   24590.0   \n",
       "3          \"9061    25-42             12.24!\",    9061.0   \n",
       "4         \"47011    25-43             16.41!\",   47011.0   \n",
       "...          ...      ...                  ...       ...   \n",
       "2181     \"101795    45-55             10.22!\",  101795.0   \n",
       "2182      \"84805    45-55             27.07!\",   84805.0   \n",
       "2183     \"101548    45-55              6.37!\",  101548.0   \n",
       "2184       \"3209    45-55                15!\",    3209.0   \n",
       "2185      \"42828    45-55             14.85!\",   42828.0   \n",
       "\n",
       "     Amount_Requested_Loan Amount_Funded_By_Investors Interest_Rate  \\\n",
       "0                     8000                       8000         7.62#   \n",
       "1                     9000                       9000        10.16#   \n",
       "2                    13000                      12975         9.99#   \n",
       "3                    10000                      10000        14.22#   \n",
       "4                     3600                       3600        13.67#   \n",
       "...                    ...                        ...           ...   \n",
       "2181                 10000                        550        10.59#   \n",
       "2182                 13225                      13225        15.31#   \n",
       "2183                 10000                        525         14.7#   \n",
       "2184                 12000                      11725         9.63#   \n",
       "2185                 16000                      16000          8.9#   \n",
       "\n",
       "     Loan_Duration   Cust_ID Family_Income Credit_Score Employment_Length  \\\n",
       "0        36 months   84563.0          3500      765-769               NaN   \n",
       "1        36 months   78765.0       5166.67      710-714        10 + years   \n",
       "2        60 months   24590.0         10500      800-804         10+ years   \n",
       "3        36 months    9061.0       2541.67      680-684           8 years   \n",
       "4        36 months   47011.0          5113      690-694               NaN   \n",
       "...            ...       ...           ...          ...               ...   \n",
       "2181     36 months  101795.0       2083.33      685-689          < 1 year   \n",
       "2182     36 months   84805.0       5833.33      680-684         10+ years   \n",
       "2183     36 months  101548.0       5416.67      645-649          < 1 year   \n",
       "2184     36 months    3209.0          3000      750-754          < 1 year   \n",
       "2185     36 months   42828.0          5750      725-729           6 years   \n",
       "\n",
       "     Owning_Two_Wheeler  \n",
       "0                  yes   \n",
       "1                    no  \n",
       "2                  yes   \n",
       "3                    no  \n",
       "4                  yes   \n",
       "...                 ...  \n",
       "2181                 no  \n",
       "2182               yes   \n",
       "2183                 no  \n",
       "2184               yes   \n",
       "2185                 no  \n",
       "\n",
       "[2186 rows x 13 columns]"
      ]
     },
     "execution_count": 18,
     "metadata": {},
     "output_type": "execute_result"
    }
   ],
   "source": [
    "# Merging all the data into one single dataframe to work on it easily.\n",
    "df4=pd.concat([df1,df2,df3],axis=1) #conacting along with columns and not index.\n",
    "df4 #we see that customer ID  data is now repeated thrice in the new dataframe."
   ]
  },
  {
   "cell_type": "code",
   "execution_count": 19,
   "id": "d1a41a26",
   "metadata": {},
   "outputs": [
    {
     "data": {
      "text/html": [
       "<div>\n",
       "<style scoped>\n",
       "    .dataframe tbody tr th:only-of-type {\n",
       "        vertical-align: middle;\n",
       "    }\n",
       "\n",
       "    .dataframe tbody tr th {\n",
       "        vertical-align: top;\n",
       "    }\n",
       "\n",
       "    .dataframe thead th {\n",
       "        text-align: right;\n",
       "    }\n",
       "</style>\n",
       "<table border=\"1\" class=\"dataframe\">\n",
       "  <thead>\n",
       "    <tr style=\"text-align: right;\">\n",
       "      <th></th>\n",
       "      <th>Customer_ID</th>\n",
       "      <th>Age_Band</th>\n",
       "      <th>Debt_To_Income_Ratio</th>\n",
       "      <th>Amount_Requested_Loan</th>\n",
       "      <th>Amount_Funded_By_Investors</th>\n",
       "      <th>Interest_Rate</th>\n",
       "      <th>Loan_Duration</th>\n",
       "      <th>Family_Income</th>\n",
       "      <th>Credit_Score</th>\n",
       "      <th>Employment_Length</th>\n",
       "      <th>Owning_Two_Wheeler</th>\n",
       "    </tr>\n",
       "  </thead>\n",
       "  <tbody>\n",
       "    <tr>\n",
       "      <th>0</th>\n",
       "      <td>\"84563</td>\n",
       "      <td>25-39</td>\n",
       "      <td>0!\",</td>\n",
       "      <td>8000</td>\n",
       "      <td>8000</td>\n",
       "      <td>7.62#</td>\n",
       "      <td>36 months</td>\n",
       "      <td>3500</td>\n",
       "      <td>765-769</td>\n",
       "      <td>NaN</td>\n",
       "      <td>yes</td>\n",
       "    </tr>\n",
       "    <tr>\n",
       "      <th>1</th>\n",
       "      <td>\"78765</td>\n",
       "      <td>25-40</td>\n",
       "      <td>13.76!\",</td>\n",
       "      <td>9000</td>\n",
       "      <td>9000</td>\n",
       "      <td>10.16#</td>\n",
       "      <td>36 months</td>\n",
       "      <td>5166.67</td>\n",
       "      <td>710-714</td>\n",
       "      <td>10 + years</td>\n",
       "      <td>no</td>\n",
       "    </tr>\n",
       "    <tr>\n",
       "      <th>2</th>\n",
       "      <td>\"24590</td>\n",
       "      <td>25-41</td>\n",
       "      <td>8.77!\",</td>\n",
       "      <td>13000</td>\n",
       "      <td>12975</td>\n",
       "      <td>9.99#</td>\n",
       "      <td>60 months</td>\n",
       "      <td>10500</td>\n",
       "      <td>800-804</td>\n",
       "      <td>10+ years</td>\n",
       "      <td>yes</td>\n",
       "    </tr>\n",
       "    <tr>\n",
       "      <th>3</th>\n",
       "      <td>\"9061</td>\n",
       "      <td>25-42</td>\n",
       "      <td>12.24!\",</td>\n",
       "      <td>10000</td>\n",
       "      <td>10000</td>\n",
       "      <td>14.22#</td>\n",
       "      <td>36 months</td>\n",
       "      <td>2541.67</td>\n",
       "      <td>680-684</td>\n",
       "      <td>8 years</td>\n",
       "      <td>no</td>\n",
       "    </tr>\n",
       "    <tr>\n",
       "      <th>4</th>\n",
       "      <td>\"47011</td>\n",
       "      <td>25-43</td>\n",
       "      <td>16.41!\",</td>\n",
       "      <td>3600</td>\n",
       "      <td>3600</td>\n",
       "      <td>13.67#</td>\n",
       "      <td>36 months</td>\n",
       "      <td>5113</td>\n",
       "      <td>690-694</td>\n",
       "      <td>NaN</td>\n",
       "      <td>yes</td>\n",
       "    </tr>\n",
       "  </tbody>\n",
       "</table>\n",
       "</div>"
      ],
      "text/plain": [
       "  Customer_ID Age_Band Debt_To_Income_Ratio Amount_Requested_Loan  \\\n",
       "0      \"84563    25-39                 0!\",                  8000   \n",
       "1      \"78765    25-40             13.76!\",                  9000   \n",
       "2      \"24590    25-41              8.77!\",                 13000   \n",
       "3       \"9061    25-42             12.24!\",                 10000   \n",
       "4      \"47011    25-43             16.41!\",                  3600   \n",
       "\n",
       "  Amount_Funded_By_Investors Interest_Rate Loan_Duration Family_Income  \\\n",
       "0                       8000         7.62#     36 months          3500   \n",
       "1                       9000        10.16#     36 months       5166.67   \n",
       "2                      12975         9.99#     60 months         10500   \n",
       "3                      10000        14.22#     36 months       2541.67   \n",
       "4                       3600        13.67#     36 months          5113   \n",
       "\n",
       "  Credit_Score Employment_Length Owning_Two_Wheeler  \n",
       "0      765-769               NaN               yes   \n",
       "1      710-714        10 + years                 no  \n",
       "2      800-804         10+ years               yes   \n",
       "3      680-684           8 years                 no  \n",
       "4      690-694               NaN               yes   "
      ]
     },
     "execution_count": 19,
     "metadata": {},
     "output_type": "execute_result"
    }
   ],
   "source": [
    "# We will remove the duplicate Cust_ID columns.\n",
    "df4.drop('Cust_ID',axis=1,inplace=True)\n",
    "df=df4.copy() # copying the data as i do not want to make changes to the main dataset.\n",
    "df.head()"
   ]
  },
  {
   "cell_type": "code",
   "execution_count": 20,
   "id": "3779b81a",
   "metadata": {},
   "outputs": [
    {
     "name": "stdout",
     "output_type": "stream",
     "text": [
      "<class 'pandas.core.frame.DataFrame'>\n",
      "RangeIndex: 2186 entries, 0 to 2185\n",
      "Data columns (total 11 columns):\n",
      " #   Column                      Non-Null Count  Dtype \n",
      "---  ------                      --------------  ----- \n",
      " 0   Customer_ID                 2186 non-null   object\n",
      " 1   Age_Band                    2183 non-null   object\n",
      " 2   Debt_To_Income_Ratio        2186 non-null   object\n",
      " 3   Amount_Requested_Loan       2185 non-null   object\n",
      " 4   Amount_Funded_By_Investors  2185 non-null   object\n",
      " 5   Interest_Rate               2186 non-null   object\n",
      " 6   Loan_Duration               2185 non-null   object\n",
      " 7   Family_Income               2183 non-null   object\n",
      " 8   Credit_Score                2186 non-null   object\n",
      " 9   Employment_Length           2119 non-null   object\n",
      " 10  Owning_Two_Wheeler          2185 non-null   object\n",
      "dtypes: object(11)\n",
      "memory usage: 188.0+ KB\n"
     ]
    }
   ],
   "source": [
    "df.info()"
   ]
  },
  {
   "cell_type": "code",
   "execution_count": 21,
   "id": "dced4ca2",
   "metadata": {},
   "outputs": [],
   "source": [
    "# We see from the above info that the total size of the data frame is 2186,\n",
    "#and even though there are all non_null values, some rows are empty. Which indicates cleaning and processing is required in the next steps."
   ]
  },
  {
   "cell_type": "markdown",
   "id": "ef120951",
   "metadata": {},
   "source": [
    "#### SOLUTION:\n",
    "* We see that there are columns which were repated mainly customer ID. Even though the data looked different ( as in df1 had \" before the number)\n",
    "* So to make the data more clean and to avoid duplication and anamoly, it is best to drop/delete the 2 columns and keep 1."
   ]
  },
  {
   "cell_type": "markdown",
   "id": "0f17d5cc",
   "metadata": {},
   "source": [
    "### Question 2. \n",
    "Using seaborn/matplotlib give any two visuals and mention the insights."
   ]
  },
  {
   "cell_type": "code",
   "execution_count": 43,
   "id": "2139021e",
   "metadata": {},
   "outputs": [
    {
     "data": {
      "image/png": "[encoded data removed]",
      "text/plain": [
       "<Figure size 720x576 with 1 Axes>"
      ]
     },
     "metadata": {
      "needs_background": "light"
     },
     "output_type": "display_data"
    }
   ],
   "source": [
    "plt.figure(figsize=(10,8))\n",
    "sns.histplot(data=df,x='Age_Band',kde=True)\n",
    "# I have not set bins size as bins is for numeric data and not categorical. Here in this Data Frame everything is Object data type.\n",
    "plt.show()"
   ]
  },
  {
   "cell_type": "code",
   "execution_count": 42,
   "id": "97f31ceb",
   "metadata": {},
   "outputs": [
    {
     "data": {
      "image/png": "[encoded data removed]",
      "text/plain": [
       "<Figure size 720x576 with 1 Axes>"
      ]
     },
     "metadata": {
      "needs_background": "light"
     },
     "output_type": "display_data"
    }
   ],
   "source": [
    "plt.figure(figsize=(10,8))\n",
    "sns.countplot(data=df,x='Age_Band')\n",
    "plt.show()"
   ]
  },
  {
   "cell_type": "code",
   "execution_count": 64,
   "id": "eae98688",
   "metadata": {},
   "outputs": [],
   "source": [
    "# I did not use barplot as it requires numeric data and Age_band is in object data type.\n",
    "# Horizontal orientation requires numeric `x` variable."
   ]
  },
  {
   "cell_type": "markdown",
   "id": "f1c66253",
   "metadata": {},
   "source": [
    "### Inference 1:\n",
    "\n",
    "* From the above histogram and countplot we see that the age group around 35-45 are the largest age group which apply for loan, followed by 30-40 being the second highest.\n",
    "* We can also see how the data is not complete clean as there are special characters from 35-50 age group. So inference is best made after cleaning the data."
   ]
  },
  {
   "cell_type": "code",
   "execution_count": 34,
   "id": "b0764f14",
   "metadata": {},
   "outputs": [],
   "source": [
    "# When tried to draw insights regarding amount_requested_for_loan column we get the error as below. \n",
    "# Indicating there are data which needs to be cleaned.\n",
    "\n",
    "#sns.histplot(data=df,x='Amount_Requested_Loan',kde=True,bins=50)\n",
    "#ValueError: Unable to parse string \".\" at position 362"
   ]
  },
  {
   "cell_type": "code",
   "execution_count": 58,
   "id": "842396a0",
   "metadata": {},
   "outputs": [
    {
     "data": {
      "text/plain": [
       "Index(['36 months', '60 months', '.', '>= 36 months'], dtype='object')"
      ]
     },
     "execution_count": 58,
     "metadata": {},
     "output_type": "execute_result"
    }
   ],
   "source": [
    "dfpie=df['Loan_Duration'].value_counts().index\n",
    "dfpie # For labels in the pie chart"
   ]
  },
  {
   "cell_type": "code",
   "execution_count": 59,
   "id": "97acc18e",
   "metadata": {},
   "outputs": [
    {
     "data": {
      "text/plain": [
       "array([1716,  467,    1,    1], dtype=int64)"
      ]
     },
     "execution_count": 59,
     "metadata": {},
     "output_type": "execute_result"
    }
   ],
   "source": [
    "count=df['Loan_Duration'].value_counts().values\n",
    "count # the no of values for each label"
   ]
  },
  {
   "cell_type": "code",
   "execution_count": null,
   "id": "973dd568",
   "metadata": {},
   "outputs": [],
   "source": [
    "# We see from the above that there are 1 data which has an undefined value \".\". This also indicates that data should be cleaned."
   ]
  },
  {
   "cell_type": "code",
   "execution_count": 61,
   "id": "5a67beb6",
   "metadata": {},
   "outputs": [
    {
     "data": {
      "text/plain": [
       "<function matplotlib.pyplot.show(close=None, block=None)>"
      ]
     },
     "execution_count": 61,
     "metadata": {},
     "output_type": "execute_result"
    },
    {
     "data": {
      "image/png": "[encoded data removed]",
      "text/plain": [
       "<Figure size 1440x720 with 1 Axes>"
      ]
     },
     "metadata": {},
     "output_type": "display_data"
    }
   ],
   "source": [
    "plt.figure(figsize=(20,10))\n",
    "plt.pie(count,labels=dfpie,autopct='%.2f%%')\n",
    "plt.show"
   ]
  },
  {
   "cell_type": "markdown",
   "id": "e9188fb5",
   "metadata": {},
   "source": [
    "### Inference 1:\n",
    "\n",
    "* From the above pie chart we see that the highest or max loan duration is for 36 months i.e 3 years, followed by  60 months i.e 5 years being the second highest.\n",
    "* We also need to make a note on how all the data in this dataset is in categorical data. And most importantly  almost all the columns have rows of undefined or clutter data, which needs to be cleaned to actually come up with the right inference.\n",
    "\n",
    "#### * Since the questions were asked in this order I am doing inference first and then clean. But once after cleaning the above graphs will be revisualized."
   ]
  },
  {
   "cell_type": "markdown",
   "id": "971c5a51",
   "metadata": {},
   "source": [
    "### Question 3.\n",
    "\n",
    "Clean the data (string cleaning)"
   ]
  },
  {
   "cell_type": "markdown",
   "id": "ebb8dad5",
   "metadata": {},
   "source": [
    "### Solution:\n",
    "* As we saw from the above inferences and futher checking of data we see that the below columns need cleaning.\n",
    " 1. Columns that have unwanted character that needs to be removed.\n",
    "    a. Debt_To_Income_Ratio \n",
    "    b. Interest Rate\n",
    "    c. Customer_ID\n",
    "    d. Credit_Score\n",
    "    e. Loan_Duration\n",
    "    f. Age_Band\n",
    "    g. Owning_Two_Wheeler\n",
    "    h. Employment_Length\n",
    "    \n",
    "Note: Only string cleaning is asked. Not replacement yet."
   ]
  },
  {
   "cell_type": "code",
   "execution_count": 66,
   "id": "cabff077",
   "metadata": {},
   "outputs": [
    {
     "data": {
      "text/plain": [
       "0           0\n",
       "1       13.76\n",
       "2        8.77\n",
       "3       12.24\n",
       "4       16.41\n",
       "        ...  \n",
       "2181    10.22\n",
       "2182    27.07\n",
       "2183     6.37\n",
       "2184       15\n",
       "2185    14.85\n",
       "Name: Debt_To_Income_Ratio, Length: 2186, dtype: object"
      ]
     },
     "execution_count": 66,
     "metadata": {},
     "output_type": "execute_result"
    }
   ],
   "source": [
    "#a. Debt_To_Income_Ratio\n",
    "df['Debt_To_Income_Ratio']=df['Debt_To_Income_Ratio'].str.replace('!\"','')\n",
    "df['Debt_To_Income_Ratio']=df['Debt_To_Income_Ratio'].str.replace(',','')\n",
    "df['Debt_To_Income_Ratio']"
   ]
  },
  {
   "cell_type": "code",
   "execution_count": 67,
   "id": "c7fcd7b8",
   "metadata": {},
   "outputs": [
    {
     "data": {
      "text/plain": [
       "0        7.62\n",
       "1       10.16\n",
       "2        9.99\n",
       "3       14.22\n",
       "4       13.67\n",
       "        ...  \n",
       "2181    10.59\n",
       "2182    15.31\n",
       "2183     14.7\n",
       "2184     9.63\n",
       "2185      8.9\n",
       "Name: Interest_Rate, Length: 2186, dtype: object"
      ]
     },
     "execution_count": 67,
     "metadata": {},
     "output_type": "execute_result"
    }
   ],
   "source": [
    "#b. Interest_Rate\n",
    "df['Interest_Rate']=df.Interest_Rate.str.replace('#','')\n",
    "df.Interest_Rate"
   ]
  },
  {
   "cell_type": "code",
   "execution_count": 68,
   "id": "beb9e315",
   "metadata": {},
   "outputs": [
    {
     "data": {
      "text/plain": [
       "0        84563\n",
       "1        78765\n",
       "2        24590\n",
       "3         9061\n",
       "4        47011\n",
       "         ...  \n",
       "2181    101795\n",
       "2182     84805\n",
       "2183    101548\n",
       "2184      3209\n",
       "2185     42828\n",
       "Name: Customer_ID, Length: 2186, dtype: object"
      ]
     },
     "execution_count": 68,
     "metadata": {},
     "output_type": "execute_result"
    }
   ],
   "source": [
    "#c. Customer_ID\n",
    "df['Customer_ID']=df['Customer_ID'].str.replace('\"','')\n",
    "df.Customer_ID"
   ]
  },
  {
   "cell_type": "code",
   "execution_count": 70,
   "id": "362f153b",
   "metadata": {},
   "outputs": [
    {
     "data": {
      "text/plain": [
       "0       765-769\n",
       "1       710-714\n",
       "2       800-804\n",
       "3       680-684\n",
       "4       690-694\n",
       "         ...   \n",
       "2181    685-689\n",
       "2182    680-684\n",
       "2183    645-649\n",
       "2184    750-754\n",
       "2185    725-729\n",
       "Name: Credit_Score, Length: 2186, dtype: object"
      ]
     },
     "execution_count": 70,
     "metadata": {},
     "output_type": "execute_result"
    }
   ],
   "source": [
    "#d.Credit_Score\n",
    "df.Credit_Score=df.Credit_Score.str.replace(' !','')\n",
    "df.Credit_Score"
   ]
  },
  {
   "cell_type": "code",
   "execution_count": 74,
   "id": "34e71789",
   "metadata": {},
   "outputs": [],
   "source": [
    "# As the values are in range, it would be advisiable not just to remove \"-\", but find the average of each \n",
    "def Credit_Score_Avg(values):\n",
    "    x=values.split('-')\n",
    "    return (int(x[0])+int(x[1]))/2"
   ]
  },
  {
   "cell_type": "code",
   "execution_count": 75,
   "id": "7191fca0",
   "metadata": {},
   "outputs": [
    {
     "data": {
      "text/plain": [
       "0       767.0\n",
       "1       712.0\n",
       "2       802.0\n",
       "3       682.0\n",
       "4       692.0\n",
       "        ...  \n",
       "2181    687.0\n",
       "2182    682.0\n",
       "2183    647.0\n",
       "2184    752.0\n",
       "2185    727.0\n",
       "Name: Credit_Score, Length: 2186, dtype: float64"
      ]
     },
     "execution_count": 75,
     "metadata": {},
     "output_type": "execute_result"
    }
   ],
   "source": [
    "df.Credit_Score=df.Credit_Score.apply(Credit_Score_Avg)\n",
    "df.Credit_Score"
   ]
  },
  {
   "cell_type": "code",
   "execution_count": 77,
   "id": "26b4df4d",
   "metadata": {},
   "outputs": [
    {
     "data": {
      "text/plain": [
       "36    1718\n",
       "60     467\n",
       "Name: Loan_Duration, dtype: int64"
      ]
     },
     "execution_count": 77,
     "metadata": {},
     "output_type": "execute_result"
    }
   ],
   "source": [
    "#e.Loan_Duration\n",
    "df.Loan_Duration=df.Loan_Duration.str.replace('.',df.Loan_Duration.mode()[0]) # This is to replace that single value which has \".\".\n",
    "# I am using the highest frequent months to replace this. \n",
    "# I am aware that no replacement was asked in the question other than string cleaning. But this will help in visualization futher.\n",
    "\n",
    "df.Loan_Duration=df.Loan_Duration.str.replace(' 36','36')\n",
    "\n",
    "# This may not be essential step as i can leave the data to be categorical, but I still wanted to.\n",
    "df.Loan_Duration=df.Loan_Duration.str.replace(' months','')\n",
    "df.Loan_Duration=df.Loan_Duration.str.replace('>=','') # I am also replacing the single above 60 months value to 60 months data itself \n",
    "#as the count is negligible.\n",
    "\n",
    "df.Loan_Duration.value_counts()"
   ]
  },
  {
   "cell_type": "code",
   "execution_count": 79,
   "id": "d1ab6852",
   "metadata": {},
   "outputs": [
    {
     "data": {
      "text/plain": [
       "0       25-39\n",
       "1       25-40\n",
       "2       25-41\n",
       "3       25-42\n",
       "4       25-43\n",
       "        ...  \n",
       "2181    45-55\n",
       "2182    45-55\n",
       "2183    45-55\n",
       "2184    45-55\n",
       "2185    45-55\n",
       "Name: Age_Band, Length: 2186, dtype: object"
      ]
     },
     "execution_count": 79,
     "metadata": {},
     "output_type": "execute_result"
    }
   ],
   "source": [
    "#f.Age_Band\n",
    "df.Age_Band=df.Age_Band.str.replace('\"','')\n",
    "df.Age_Band=df.Age_Band.str.replace(',','-')\n",
    "df.Age_Band=df.Age_Band.str.replace('!','')\n",
    "df.Age_Band"
   ]
  },
  {
   "cell_type": "code",
   "execution_count": 81,
   "id": "65f07605",
   "metadata": {},
   "outputs": [
    {
     "data": {
      "text/plain": [
       "yes    1093\n",
       "no     1092\n",
       "Name: Owning_Two_Wheeler, dtype: int64"
      ]
     },
     "execution_count": 81,
     "metadata": {},
     "output_type": "execute_result"
    }
   ],
   "source": [
    "#g.Owning_Two_Wheeler\n",
    "df['Owning_Two_Wheeler']=df.Owning_Two_Wheeler.str.replace(' !','')\n",
    "df['Owning_Two_Wheeler']=df.Owning_Two_Wheeler.str.replace('!','yes')\n",
    "df['Owning_Two_Wheeler']=df.Owning_Two_Wheeler.str.replace('yes ','yes')\n",
    "df['Owning_Two_Wheeler']=df.Owning_Two_Wheeler.str.replace('noo','no')\n",
    "df['Owning_Two_Wheeler']=df.Owning_Two_Wheeler.str.replace('noo','no')\n",
    "df.Owning_Two_Wheeler.value_counts()"
   ]
  },
  {
   "cell_type": "code",
   "execution_count": null,
   "id": "5d2d7f1f",
   "metadata": {},
   "outputs": [],
   "source": [
    "#h. Employment_Length\n",
    "\n",
    "temp=df.Employment_Length.value_counts().index.to_list()\n",
    "unwanted_chars=[]\n",
    "for i in temp:\n",
    "    unwanted_chars.append(i.split()[-1])\n",
    "\n",
    "unwanted_chars=list(set(unwanted_chars))\n",
    "\n",
    "for i in unwanted_chars:\n",
    "    df['Employment_Length']=df.Employment_Length.str.replace(i,'')\n",
    "special_chars=['+','< ',\" 's\",'s',' -',' -s']\n",
    "for i in special_chars:\n",
    "    df['Employment_Length']=df.Employment_Length.str.replace(i,'')"
   ]
  },
  {
   "cell_type": "code",
   "execution_count": 86,
   "id": "7dcf845c",
   "metadata": {},
   "outputs": [
    {
     "data": {
      "text/plain": [
       "0        NaN\n",
       "1       10  \n",
       "2        10 \n",
       "3         8 \n",
       "4        NaN\n",
       "        ... \n",
       "2181      1 \n",
       "2182     10 \n",
       "2183      1 \n",
       "2184      1 \n",
       "2185      6 \n",
       "Name: Employment_Length, Length: 2186, dtype: object"
      ]
     },
     "execution_count": 86,
     "metadata": {},
     "output_type": "execute_result"
    }
   ],
   "source": [
    "df.Employment_Length"
   ]
  },
  {
   "cell_type": "code",
   "execution_count": 87,
   "id": "87a88b17",
   "metadata": {},
   "outputs": [
    {
     "name": "stdout",
     "output_type": "stream",
     "text": [
      "<class 'pandas.core.frame.DataFrame'>\n",
      "RangeIndex: 2186 entries, 0 to 2185\n",
      "Data columns (total 11 columns):\n",
      " #   Column                      Non-Null Count  Dtype  \n",
      "---  ------                      --------------  -----  \n",
      " 0   Customer_ID                 2185 non-null   float64\n",
      " 1   Age_Band                    2183 non-null   object \n",
      " 2   Debt_To_Income_Ratio        2185 non-null   float64\n",
      " 3   Amount_Requested_Loan       2181 non-null   float64\n",
      " 4   Amount_Funded_By_Investors  2177 non-null   float64\n",
      " 5   Interest_Rate               2186 non-null   float64\n",
      " 6   Loan_Duration               2185 non-null   object \n",
      " 7   Family_Income               2177 non-null   float64\n",
      " 8   Credit_Score                2186 non-null   float64\n",
      " 9   Employment_Length           2118 non-null   float64\n",
      " 10  Owning_Two_Wheeler          2185 non-null   object \n",
      "dtypes: float64(8), object(3)\n",
      "memory usage: 188.0+ KB\n"
     ]
    }
   ],
   "source": [
    "# COnverting the following columns which are in object data type to numeric\n",
    "for column in ['Customer_ID', 'Debt_To_Income_Ratio', 'Amount_Requested_Loan', 'Amount_Funded_By_Investors', 'Interest_Rate', 'Family_Income', 'Credit_Score', 'Employment_Length']:\n",
    "    if df[column].dtype == 'object':\n",
    "        df[column] = pd.to_numeric(df[column], errors='coerce')\n",
    "df.info()"
   ]
  },
  {
   "cell_type": "markdown",
   "id": "640efcf6",
   "metadata": {},
   "source": [
    "### Answering Question 2 Again for better inference as the data is cleaned.\n"
   ]
  },
  {
   "cell_type": "code",
   "execution_count": 89,
   "id": "cd5c22db",
   "metadata": {},
   "outputs": [
    {
     "data": {
      "text/plain": [
       "<function matplotlib.pyplot.show(close=None, block=None)>"
      ]
     },
     "execution_count": 89,
     "metadata": {},
     "output_type": "execute_result"
    },
    {
     "data": {
      "image/png": "[encoded data removed]",
      "text/plain": [
       "<Figure size 1440x720 with 1 Axes>"
      ]
     },
     "metadata": {},
     "output_type": "display_data"
    }
   ],
   "source": [
    "dfpie=df['Loan_Duration'].value_counts().index\n",
    "dfpie # For labels in the pie chart\n",
    "count=df['Loan_Duration'].value_counts().values\n",
    "count # the no of values for each label\n",
    "plt.figure(figsize=(20,10))\n",
    "plt.pie(count,labels=dfpie,autopct='%.2f%%')\n",
    "plt.show"
   ]
  },
  {
   "cell_type": "code",
   "execution_count": 90,
   "id": "81e7f9b5",
   "metadata": {},
   "outputs": [
    {
     "data": {
      "image/png": "[encoded data removed]",
      "text/plain": [
       "<Figure size 720x576 with 1 Axes>"
      ]
     },
     "metadata": {
      "needs_background": "light"
     },
     "output_type": "display_data"
    }
   ],
   "source": [
    "plt.figure(figsize=(10,8))\n",
    "sns.countplot(data=df,x='Age_Band')\n",
    "plt.show()"
   ]
  },
  {
   "cell_type": "code",
   "execution_count": 91,
   "id": "4ac95624",
   "metadata": {},
   "outputs": [
    {
     "data": {
      "image/png": "[encoded data removed]",
      "text/plain": [
       "<Figure size 720x576 with 1 Axes>"
      ]
     },
     "metadata": {
      "needs_background": "light"
     },
     "output_type": "display_data"
    }
   ],
   "source": [
    "plt.figure(figsize=(10,8))\n",
    "sns.histplot(data=df,x='Age_Band',kde=True)\n",
    "plt.show()"
   ]
  },
  {
   "cell_type": "code",
   "execution_count": 94,
   "id": "f1731790",
   "metadata": {},
   "outputs": [
    {
     "data": {
      "text/plain": [
       "<AxesSubplot:xlabel='Amount_Requested_Loan', ylabel='Count'>"
      ]
     },
     "execution_count": 94,
     "metadata": {},
     "output_type": "execute_result"
    },
    {
     "data": {
      "image/png": "[encoded data removed]",
      "text/plain": [
       "<Figure size 432x288 with 1 Axes>"
      ]
     },
     "metadata": {
      "needs_background": "light"
     },
     "output_type": "display_data"
    }
   ],
   "source": [
    "sns.histplot(data=df,x='Amount_Requested_Loan',kde=True,bins=20)"
   ]
  },
  {
   "cell_type": "markdown",
   "id": "62515219",
   "metadata": {},
   "source": [
    "### Question 4\n",
    "Check for outliers present in the data, decide whether you want to remove them or not. Justify the same"
   ]
  },
  {
   "cell_type": "code",
   "execution_count": 128,
   "id": "ffd8b83c",
   "metadata": {},
   "outputs": [],
   "source": [
    "from scipy import stats\n",
    "#Writting a function as doing the same steps for each column will be time consuming.\n",
    "def outliers_search(df):\n",
    "    columns = ['Amount_Requested_Loan','Amount_Funded_By_Investors','Debt_To_Income_Ratio', 'Family_Income', 'Credit_Score', 'Employment_Length']\n",
    "    outliers = []\n",
    "    \n",
    "    for i in columns:\n",
    "        #IQR = stats.iqr(df[i], interpolation = 'midpoint')\n",
    "        Q1 = np.percentile(df[i], 25, interpolation='midpoint') #i+j/2 ie finding the mid point.\n",
    "        Q3 = np.percentile(df[i], 75, interpolation='midpoint')\n",
    "        IQR = Q3 - Q1\n",
    "        \n",
    "        lower_bound = Q1 - (1.5 * IQR)\n",
    "        upper_bound = Q3 + (1.5 * IQR)\n",
    "\n",
    "        out_df = df[(df[i] < lower_bound) | (df[i] > upper_bound)]\n",
    "        outliers.append(out_df.shape[0])\n",
    "        \n",
    "        print(f'{i} Lower bound is {lower_bound}, Upper bound is {upper_bound}')\n",
    "    df_outliers=pd.DataFrame({'Feature Name':columns,'Total_Outliers':outliers})\n",
    "    \n",
    "    return df_outliers"
   ]
  },
  {
   "cell_type": "code",
   "execution_count": 129,
   "id": "cbde232b",
   "metadata": {},
   "outputs": [
    {
     "name": "stdout",
     "output_type": "stream",
     "text": [
      "Amount_Requested_Loan Lower bound is nan, Upper bound is nan\n",
      "Amount_Funded_By_Investors Lower bound is nan, Upper bound is nan\n",
      "Debt_To_Income_Ratio Lower bound is nan, Upper bound is nan\n",
      "Family_Income Lower bound is nan, Upper bound is nan\n",
      "Credit_Score Lower bound is 614.5, Upper bound is 794.5\n",
      "Employment_Length Lower bound is nan, Upper bound is nan\n"
     ]
    },
    {
     "data": {
      "text/html": [
       "<div>\n",
       "<style scoped>\n",
       "    .dataframe tbody tr th:only-of-type {\n",
       "        vertical-align: middle;\n",
       "    }\n",
       "\n",
       "    .dataframe tbody tr th {\n",
       "        vertical-align: top;\n",
       "    }\n",
       "\n",
       "    .dataframe thead th {\n",
       "        text-align: right;\n",
       "    }\n",
       "</style>\n",
       "<table border=\"1\" class=\"dataframe\">\n",
       "  <thead>\n",
       "    <tr style=\"text-align: right;\">\n",
       "      <th></th>\n",
       "      <th>Feature Name</th>\n",
       "      <th>Total_Outliers</th>\n",
       "    </tr>\n",
       "  </thead>\n",
       "  <tbody>\n",
       "    <tr>\n",
       "      <th>0</th>\n",
       "      <td>Amount_Requested_Loan</td>\n",
       "      <td>0</td>\n",
       "    </tr>\n",
       "    <tr>\n",
       "      <th>1</th>\n",
       "      <td>Amount_Funded_By_Investors</td>\n",
       "      <td>0</td>\n",
       "    </tr>\n",
       "    <tr>\n",
       "      <th>2</th>\n",
       "      <td>Debt_To_Income_Ratio</td>\n",
       "      <td>0</td>\n",
       "    </tr>\n",
       "    <tr>\n",
       "      <th>3</th>\n",
       "      <td>Family_Income</td>\n",
       "      <td>0</td>\n",
       "    </tr>\n",
       "    <tr>\n",
       "      <th>4</th>\n",
       "      <td>Credit_Score</td>\n",
       "      <td>49</td>\n",
       "    </tr>\n",
       "    <tr>\n",
       "      <th>5</th>\n",
       "      <td>Employment_Length</td>\n",
       "      <td>0</td>\n",
       "    </tr>\n",
       "  </tbody>\n",
       "</table>\n",
       "</div>"
      ],
      "text/plain": [
       "                 Feature Name  Total_Outliers\n",
       "0       Amount_Requested_Loan               0\n",
       "1  Amount_Funded_By_Investors               0\n",
       "2        Debt_To_Income_Ratio               0\n",
       "3               Family_Income               0\n",
       "4                Credit_Score              49\n",
       "5           Employment_Length               0"
      ]
     },
     "execution_count": 129,
     "metadata": {},
     "output_type": "execute_result"
    }
   ],
   "source": [
    "outliers_search(df)"
   ]
  },
  {
   "cell_type": "markdown",
   "id": "be20a030",
   "metadata": {},
   "source": [
    "### Inference\n",
    "* We see that there are 49 Values in Credit score.\n",
    "* Since that is a small amount of data when compared to overall, we can delete the values."
   ]
  },
  {
   "cell_type": "code",
   "execution_count": 130,
   "id": "c6721091",
   "metadata": {},
   "outputs": [],
   "source": [
    "Q1 = np.percentile(df['Credit_Score'], 25, interpolation='midpoint')\n",
    "Q3 = np.percentile(df['Credit_Score'], 75, interpolation='midpoint')\n",
    "IQR = Q3 - Q1\n",
    "low_bound = Q1 - (1.5 * IQR)\n",
    "upper_bound = Q3 + (1.5 * IQR)\n",
    "\n",
    "#Removing the outliers from the dataset.\n",
    "outliers= df[(df['Credit_Score'] < low_bound) | (df['Credit_Score'] > upper_bound)]\n",
    "filtered_df=df[~df['Customer_ID'].isin(outliers.Customer_ID)]"
   ]
  },
  {
   "cell_type": "code",
   "execution_count": 131,
   "id": "9d6109b6",
   "metadata": {},
   "outputs": [
    {
     "name": "stdout",
     "output_type": "stream",
     "text": [
      "Amount_Requested_Loan Lower bound is nan, Upper bound is nan\n",
      "Amount_Funded_By_Investors Lower bound is nan, Upper bound is nan\n",
      "Debt_To_Income_Ratio Lower bound is nan, Upper bound is nan\n",
      "Family_Income Lower bound is nan, Upper bound is nan\n",
      "Credit_Score Lower bound is 602.0, Upper bound is 802.0\n",
      "Employment_Length Lower bound is nan, Upper bound is nan\n"
     ]
    },
    {
     "data": {
      "text/html": [
       "<div>\n",
       "<style scoped>\n",
       "    .dataframe tbody tr th:only-of-type {\n",
       "        vertical-align: middle;\n",
       "    }\n",
       "\n",
       "    .dataframe tbody tr th {\n",
       "        vertical-align: top;\n",
       "    }\n",
       "\n",
       "    .dataframe thead th {\n",
       "        text-align: right;\n",
       "    }\n",
       "</style>\n",
       "<table border=\"1\" class=\"dataframe\">\n",
       "  <thead>\n",
       "    <tr style=\"text-align: right;\">\n",
       "      <th></th>\n",
       "      <th>Feature Name</th>\n",
       "      <th>Total_Outliers</th>\n",
       "    </tr>\n",
       "  </thead>\n",
       "  <tbody>\n",
       "    <tr>\n",
       "      <th>0</th>\n",
       "      <td>Amount_Requested_Loan</td>\n",
       "      <td>0</td>\n",
       "    </tr>\n",
       "    <tr>\n",
       "      <th>1</th>\n",
       "      <td>Amount_Funded_By_Investors</td>\n",
       "      <td>0</td>\n",
       "    </tr>\n",
       "    <tr>\n",
       "      <th>2</th>\n",
       "      <td>Debt_To_Income_Ratio</td>\n",
       "      <td>0</td>\n",
       "    </tr>\n",
       "    <tr>\n",
       "      <th>3</th>\n",
       "      <td>Family_Income</td>\n",
       "      <td>0</td>\n",
       "    </tr>\n",
       "    <tr>\n",
       "      <th>4</th>\n",
       "      <td>Credit_Score</td>\n",
       "      <td>0</td>\n",
       "    </tr>\n",
       "    <tr>\n",
       "      <th>5</th>\n",
       "      <td>Employment_Length</td>\n",
       "      <td>0</td>\n",
       "    </tr>\n",
       "  </tbody>\n",
       "</table>\n",
       "</div>"
      ],
      "text/plain": [
       "                 Feature Name  Total_Outliers\n",
       "0       Amount_Requested_Loan               0\n",
       "1  Amount_Funded_By_Investors               0\n",
       "2        Debt_To_Income_Ratio               0\n",
       "3               Family_Income               0\n",
       "4                Credit_Score               0\n",
       "5           Employment_Length               0"
      ]
     },
     "execution_count": 131,
     "metadata": {},
     "output_type": "execute_result"
    }
   ],
   "source": [
    "outliers_search(filtered_df)"
   ]
  },
  {
   "cell_type": "markdown",
   "id": "31224a2b",
   "metadata": {},
   "source": [
    "## PART 2 \n",
    "### Question 1. \n",
    "How much missing data is there in the dataset? What's the impact of missing data on analysis and modelling"
   ]
  },
  {
   "cell_type": "code",
   "execution_count": 135,
   "id": "72851846",
   "metadata": {},
   "outputs": [],
   "source": [
    "def missing_values():\n",
    "    missing_values_df=filtered_df.isnull().sum().reset_index().rename(columns={'index':'Feature_name',0:'Missing_values'})\n",
    "    missing_values_df['% of missing']=(missing_values_df['Missing_values']/filtered_df.shape[0])*100\n",
    "    total_per_missing=missing_values_df['% of missing'].sum()\n",
    "    missing_values_df['% of missing']=missing_values_df['% of missing'].apply(lambda x: f'{x:.2f}%')\n",
    "    return total_per_missing,missing_values_df"
   ]
  },
  {
   "cell_type": "code",
   "execution_count": 136,
   "id": "c4f608a3",
   "metadata": {},
   "outputs": [
    {
     "name": "stdout",
     "output_type": "stream",
     "text": [
      "4.398689751988769\n"
     ]
    },
    {
     "data": {
      "text/html": [
       "<div>\n",
       "<style scoped>\n",
       "    .dataframe tbody tr th:only-of-type {\n",
       "        vertical-align: middle;\n",
       "    }\n",
       "\n",
       "    .dataframe tbody tr th {\n",
       "        vertical-align: top;\n",
       "    }\n",
       "\n",
       "    .dataframe thead th {\n",
       "        text-align: right;\n",
       "    }\n",
       "</style>\n",
       "<table border=\"1\" class=\"dataframe\">\n",
       "  <thead>\n",
       "    <tr style=\"text-align: right;\">\n",
       "      <th></th>\n",
       "      <th>Feature_name</th>\n",
       "      <th>Missing_values</th>\n",
       "      <th>% of missing</th>\n",
       "    </tr>\n",
       "  </thead>\n",
       "  <tbody>\n",
       "    <tr>\n",
       "      <th>0</th>\n",
       "      <td>Customer_ID</td>\n",
       "      <td>1</td>\n",
       "      <td>0.05%</td>\n",
       "    </tr>\n",
       "    <tr>\n",
       "      <th>1</th>\n",
       "      <td>Age_Band</td>\n",
       "      <td>3</td>\n",
       "      <td>0.14%</td>\n",
       "    </tr>\n",
       "    <tr>\n",
       "      <th>2</th>\n",
       "      <td>Debt_To_Income_Ratio</td>\n",
       "      <td>1</td>\n",
       "      <td>0.05%</td>\n",
       "    </tr>\n",
       "    <tr>\n",
       "      <th>3</th>\n",
       "      <td>Amount_Requested_Loan</td>\n",
       "      <td>5</td>\n",
       "      <td>0.23%</td>\n",
       "    </tr>\n",
       "    <tr>\n",
       "      <th>4</th>\n",
       "      <td>Amount_Funded_By_Investors</td>\n",
       "      <td>9</td>\n",
       "      <td>0.42%</td>\n",
       "    </tr>\n",
       "    <tr>\n",
       "      <th>5</th>\n",
       "      <td>Interest_Rate</td>\n",
       "      <td>0</td>\n",
       "      <td>0.00%</td>\n",
       "    </tr>\n",
       "    <tr>\n",
       "      <th>6</th>\n",
       "      <td>Loan_Duration</td>\n",
       "      <td>1</td>\n",
       "      <td>0.05%</td>\n",
       "    </tr>\n",
       "    <tr>\n",
       "      <th>7</th>\n",
       "      <td>Family_Income</td>\n",
       "      <td>6</td>\n",
       "      <td>0.28%</td>\n",
       "    </tr>\n",
       "    <tr>\n",
       "      <th>8</th>\n",
       "      <td>Credit_Score</td>\n",
       "      <td>0</td>\n",
       "      <td>0.00%</td>\n",
       "    </tr>\n",
       "    <tr>\n",
       "      <th>9</th>\n",
       "      <td>Employment_Length</td>\n",
       "      <td>67</td>\n",
       "      <td>3.14%</td>\n",
       "    </tr>\n",
       "    <tr>\n",
       "      <th>10</th>\n",
       "      <td>Owning_Two_Wheeler</td>\n",
       "      <td>1</td>\n",
       "      <td>0.05%</td>\n",
       "    </tr>\n",
       "  </tbody>\n",
       "</table>\n",
       "</div>"
      ],
      "text/plain": [
       "                  Feature_name  Missing_values % of missing\n",
       "0                  Customer_ID               1        0.05%\n",
       "1                     Age_Band               3        0.14%\n",
       "2         Debt_To_Income_Ratio               1        0.05%\n",
       "3        Amount_Requested_Loan               5        0.23%\n",
       "4   Amount_Funded_By_Investors               9        0.42%\n",
       "5                Interest_Rate               0        0.00%\n",
       "6                Loan_Duration               1        0.05%\n",
       "7                Family_Income               6        0.28%\n",
       "8                 Credit_Score               0        0.00%\n",
       "9            Employment_Length              67        3.14%\n",
       "10          Owning_Two_Wheeler               1        0.05%"
      ]
     },
     "execution_count": 136,
     "metadata": {},
     "output_type": "execute_result"
    }
   ],
   "source": [
    "print(missing_values()[0])\n",
    "missing_values()[1]"
   ]
  },
  {
   "cell_type": "markdown",
   "id": "46c6fde0",
   "metadata": {},
   "source": [
    "### Inference :\n",
    "* We see that the missing data is less than 3.5% max with Employment_Length being the highest of 3.14%.\n",
    "* This shows that these missing values will have the least amount of impact on the calculations.\n",
    "* Yet we  can immpute the missing values if we choose to like below."
   ]
  },
  {
   "cell_type": "markdown",
   "id": "f62fad89",
   "metadata": {},
   "source": [
    "### Question 2\n",
    "Do the missing value imputation for numerical & categorical data"
   ]
  },
  {
   "cell_type": "code",
   "execution_count": 137,
   "id": "5552d7ae",
   "metadata": {},
   "outputs": [],
   "source": [
    "# Categorical imputation is done by using mode    \n",
    "def categorical_imputation(column):\n",
    "    filtered_df[column]=filtered_df[column].fillna(filtered_df[column].mode()[0])\n",
    "    \n",
    "# Numerical imputation is done by using mean    \n",
    "def numerical_imputation(column):\n",
    "    filtered_df[column]=filtered_df[column].fillna(filtered_df[column].mean())"
   ]
  },
  {
   "cell_type": "code",
   "execution_count": 138,
   "id": "3d62168e",
   "metadata": {},
   "outputs": [
    {
     "name": "stdout",
     "output_type": "stream",
     "text": [
      "0.04679457182966776\n"
     ]
    },
    {
     "data": {
      "text/html": [
       "<div>\n",
       "<style scoped>\n",
       "    .dataframe tbody tr th:only-of-type {\n",
       "        vertical-align: middle;\n",
       "    }\n",
       "\n",
       "    .dataframe tbody tr th {\n",
       "        vertical-align: top;\n",
       "    }\n",
       "\n",
       "    .dataframe thead th {\n",
       "        text-align: right;\n",
       "    }\n",
       "</style>\n",
       "<table border=\"1\" class=\"dataframe\">\n",
       "  <thead>\n",
       "    <tr style=\"text-align: right;\">\n",
       "      <th></th>\n",
       "      <th>Feature_name</th>\n",
       "      <th>Missing_values</th>\n",
       "      <th>% of missing</th>\n",
       "    </tr>\n",
       "  </thead>\n",
       "  <tbody>\n",
       "    <tr>\n",
       "      <th>0</th>\n",
       "      <td>Customer_ID</td>\n",
       "      <td>1</td>\n",
       "      <td>0.05%</td>\n",
       "    </tr>\n",
       "    <tr>\n",
       "      <th>1</th>\n",
       "      <td>Age_Band</td>\n",
       "      <td>0</td>\n",
       "      <td>0.00%</td>\n",
       "    </tr>\n",
       "    <tr>\n",
       "      <th>2</th>\n",
       "      <td>Debt_To_Income_Ratio</td>\n",
       "      <td>0</td>\n",
       "      <td>0.00%</td>\n",
       "    </tr>\n",
       "    <tr>\n",
       "      <th>3</th>\n",
       "      <td>Amount_Requested_Loan</td>\n",
       "      <td>0</td>\n",
       "      <td>0.00%</td>\n",
       "    </tr>\n",
       "    <tr>\n",
       "      <th>4</th>\n",
       "      <td>Amount_Funded_By_Investors</td>\n",
       "      <td>0</td>\n",
       "      <td>0.00%</td>\n",
       "    </tr>\n",
       "    <tr>\n",
       "      <th>5</th>\n",
       "      <td>Interest_Rate</td>\n",
       "      <td>0</td>\n",
       "      <td>0.00%</td>\n",
       "    </tr>\n",
       "    <tr>\n",
       "      <th>6</th>\n",
       "      <td>Loan_Duration</td>\n",
       "      <td>0</td>\n",
       "      <td>0.00%</td>\n",
       "    </tr>\n",
       "    <tr>\n",
       "      <th>7</th>\n",
       "      <td>Family_Income</td>\n",
       "      <td>0</td>\n",
       "      <td>0.00%</td>\n",
       "    </tr>\n",
       "    <tr>\n",
       "      <th>8</th>\n",
       "      <td>Credit_Score</td>\n",
       "      <td>0</td>\n",
       "      <td>0.00%</td>\n",
       "    </tr>\n",
       "    <tr>\n",
       "      <th>9</th>\n",
       "      <td>Employment_Length</td>\n",
       "      <td>0</td>\n",
       "      <td>0.00%</td>\n",
       "    </tr>\n",
       "    <tr>\n",
       "      <th>10</th>\n",
       "      <td>Owning_Two_Wheeler</td>\n",
       "      <td>0</td>\n",
       "      <td>0.00%</td>\n",
       "    </tr>\n",
       "  </tbody>\n",
       "</table>\n",
       "</div>"
      ],
      "text/plain": [
       "                  Feature_name  Missing_values % of missing\n",
       "0                  Customer_ID               1        0.05%\n",
       "1                     Age_Band               0        0.00%\n",
       "2         Debt_To_Income_Ratio               0        0.00%\n",
       "3        Amount_Requested_Loan               0        0.00%\n",
       "4   Amount_Funded_By_Investors               0        0.00%\n",
       "5                Interest_Rate               0        0.00%\n",
       "6                Loan_Duration               0        0.00%\n",
       "7                Family_Income               0        0.00%\n",
       "8                 Credit_Score               0        0.00%\n",
       "9            Employment_Length               0        0.00%\n",
       "10          Owning_Two_Wheeler               0        0.00%"
      ]
     },
     "execution_count": 138,
     "metadata": {},
     "output_type": "execute_result"
    }
   ],
   "source": [
    "column=['Age_Band', 'Debt_To_Income_Ratio', 'Amount_Requested_Loan', 'Amount_Funded_By_Investors', 'Interest_Rate', 'Loan_Duration', 'Family_Income', 'Credit_Score', 'Employment_Length', 'Owning_Two_Wheeler']\n",
    "for i in column:\n",
    "    if filtered_df[i].dtype == 'O':\n",
    "        categorical_imputation(i)\n",
    "    else:\n",
    "        numerical_imputation(i)\n",
    "print(missing_values()[0])\n",
    "missing_values()[1]"
   ]
  },
  {
   "cell_type": "markdown",
   "id": "eb1ea1e2",
   "metadata": {},
   "source": [
    "### Question 3.\n",
    "Which variables in the dataset require one-hot encoding using pd.getdummies?\n",
    "Treat them accordingly. What is the purpose of using one-hot encoding for these\n",
    "variables?"
   ]
  },
  {
   "cell_type": "code",
   "execution_count": 139,
   "id": "93f04ca5",
   "metadata": {},
   "outputs": [],
   "source": [
    "filtered_df=pd.get_dummies(filtered_df,prefix=['Age_Band','Loan_Duration','Two_wheeler'])"
   ]
  },
  {
   "cell_type": "code",
   "execution_count": 140,
   "id": "7b68ebd8",
   "metadata": {},
   "outputs": [
    {
     "data": {
      "text/html": [
       "<div>\n",
       "<style scoped>\n",
       "    .dataframe tbody tr th:only-of-type {\n",
       "        vertical-align: middle;\n",
       "    }\n",
       "\n",
       "    .dataframe tbody tr th {\n",
       "        vertical-align: top;\n",
       "    }\n",
       "\n",
       "    .dataframe thead th {\n",
       "        text-align: right;\n",
       "    }\n",
       "</style>\n",
       "<table border=\"1\" class=\"dataframe\">\n",
       "  <thead>\n",
       "    <tr style=\"text-align: right;\">\n",
       "      <th></th>\n",
       "      <th>Customer_ID</th>\n",
       "      <th>Debt_To_Income_Ratio</th>\n",
       "      <th>Amount_Requested_Loan</th>\n",
       "      <th>Amount_Funded_By_Investors</th>\n",
       "      <th>Interest_Rate</th>\n",
       "      <th>Family_Income</th>\n",
       "      <th>Credit_Score</th>\n",
       "      <th>Employment_Length</th>\n",
       "      <th>Age_Band_25-39</th>\n",
       "      <th>Age_Band_25-40</th>\n",
       "      <th>...</th>\n",
       "      <th>Age_Band_25-45</th>\n",
       "      <th>Age_Band_30-40</th>\n",
       "      <th>Age_Band_35-45</th>\n",
       "      <th>Age_Band_35-45</th>\n",
       "      <th>Age_Band_45-50</th>\n",
       "      <th>Age_Band_45-55</th>\n",
       "      <th>Loan_Duration_36</th>\n",
       "      <th>Loan_Duration_60</th>\n",
       "      <th>Two_wheeler_no</th>\n",
       "      <th>Two_wheeler_yes</th>\n",
       "    </tr>\n",
       "  </thead>\n",
       "  <tbody>\n",
       "    <tr>\n",
       "      <th>0</th>\n",
       "      <td>84563.0</td>\n",
       "      <td>0.00</td>\n",
       "      <td>8000.0</td>\n",
       "      <td>8000.0</td>\n",
       "      <td>7.62</td>\n",
       "      <td>3500.00</td>\n",
       "      <td>767.0</td>\n",
       "      <td>5.448309</td>\n",
       "      <td>1</td>\n",
       "      <td>0</td>\n",
       "      <td>...</td>\n",
       "      <td>0</td>\n",
       "      <td>0</td>\n",
       "      <td>0</td>\n",
       "      <td>0</td>\n",
       "      <td>0</td>\n",
       "      <td>0</td>\n",
       "      <td>1</td>\n",
       "      <td>0</td>\n",
       "      <td>0</td>\n",
       "      <td>1</td>\n",
       "    </tr>\n",
       "    <tr>\n",
       "      <th>1</th>\n",
       "      <td>78765.0</td>\n",
       "      <td>13.76</td>\n",
       "      <td>9000.0</td>\n",
       "      <td>9000.0</td>\n",
       "      <td>10.16</td>\n",
       "      <td>5166.67</td>\n",
       "      <td>712.0</td>\n",
       "      <td>10.000000</td>\n",
       "      <td>0</td>\n",
       "      <td>1</td>\n",
       "      <td>...</td>\n",
       "      <td>0</td>\n",
       "      <td>0</td>\n",
       "      <td>0</td>\n",
       "      <td>0</td>\n",
       "      <td>0</td>\n",
       "      <td>0</td>\n",
       "      <td>1</td>\n",
       "      <td>0</td>\n",
       "      <td>1</td>\n",
       "      <td>0</td>\n",
       "    </tr>\n",
       "    <tr>\n",
       "      <th>3</th>\n",
       "      <td>9061.0</td>\n",
       "      <td>12.24</td>\n",
       "      <td>10000.0</td>\n",
       "      <td>10000.0</td>\n",
       "      <td>14.22</td>\n",
       "      <td>2541.67</td>\n",
       "      <td>682.0</td>\n",
       "      <td>8.000000</td>\n",
       "      <td>0</td>\n",
       "      <td>0</td>\n",
       "      <td>...</td>\n",
       "      <td>0</td>\n",
       "      <td>0</td>\n",
       "      <td>0</td>\n",
       "      <td>0</td>\n",
       "      <td>0</td>\n",
       "      <td>0</td>\n",
       "      <td>1</td>\n",
       "      <td>0</td>\n",
       "      <td>1</td>\n",
       "      <td>0</td>\n",
       "    </tr>\n",
       "    <tr>\n",
       "      <th>4</th>\n",
       "      <td>47011.0</td>\n",
       "      <td>16.41</td>\n",
       "      <td>3600.0</td>\n",
       "      <td>3600.0</td>\n",
       "      <td>13.67</td>\n",
       "      <td>5113.00</td>\n",
       "      <td>692.0</td>\n",
       "      <td>5.448309</td>\n",
       "      <td>0</td>\n",
       "      <td>0</td>\n",
       "      <td>...</td>\n",
       "      <td>0</td>\n",
       "      <td>0</td>\n",
       "      <td>0</td>\n",
       "      <td>0</td>\n",
       "      <td>0</td>\n",
       "      <td>0</td>\n",
       "      <td>1</td>\n",
       "      <td>0</td>\n",
       "      <td>0</td>\n",
       "      <td>1</td>\n",
       "    </tr>\n",
       "    <tr>\n",
       "      <th>5</th>\n",
       "      <td>21789.0</td>\n",
       "      <td>29.82</td>\n",
       "      <td>7350.0</td>\n",
       "      <td>7350.0</td>\n",
       "      <td>10.74</td>\n",
       "      <td>5000.00</td>\n",
       "      <td>747.0</td>\n",
       "      <td>4.000000</td>\n",
       "      <td>0</td>\n",
       "      <td>0</td>\n",
       "      <td>...</td>\n",
       "      <td>0</td>\n",
       "      <td>0</td>\n",
       "      <td>0</td>\n",
       "      <td>0</td>\n",
       "      <td>0</td>\n",
       "      <td>0</td>\n",
       "      <td>0</td>\n",
       "      <td>1</td>\n",
       "      <td>1</td>\n",
       "      <td>0</td>\n",
       "    </tr>\n",
       "  </tbody>\n",
       "</table>\n",
       "<p>5 rows × 23 columns</p>\n",
       "</div>"
      ],
      "text/plain": [
       "   Customer_ID  Debt_To_Income_Ratio  Amount_Requested_Loan  \\\n",
       "0      84563.0                  0.00                 8000.0   \n",
       "1      78765.0                 13.76                 9000.0   \n",
       "3       9061.0                 12.24                10000.0   \n",
       "4      47011.0                 16.41                 3600.0   \n",
       "5      21789.0                 29.82                 7350.0   \n",
       "\n",
       "   Amount_Funded_By_Investors  Interest_Rate  Family_Income  Credit_Score  \\\n",
       "0                      8000.0           7.62        3500.00         767.0   \n",
       "1                      9000.0          10.16        5166.67         712.0   \n",
       "3                     10000.0          14.22        2541.67         682.0   \n",
       "4                      3600.0          13.67        5113.00         692.0   \n",
       "5                      7350.0          10.74        5000.00         747.0   \n",
       "\n",
       "   Employment_Length  Age_Band_25-39  Age_Band_25-40  ...  Age_Band_25-45  \\\n",
       "0           5.448309               1               0  ...               0   \n",
       "1          10.000000               0               1  ...               0   \n",
       "3           8.000000               0               0  ...               0   \n",
       "4           5.448309               0               0  ...               0   \n",
       "5           4.000000               0               0  ...               0   \n",
       "\n",
       "   Age_Band_30-40  Age_Band_35-45  Age_Band_35-45   Age_Band_45-50  \\\n",
       "0               0               0                0               0   \n",
       "1               0               0                0               0   \n",
       "3               0               0                0               0   \n",
       "4               0               0                0               0   \n",
       "5               0               0                0               0   \n",
       "\n",
       "   Age_Band_45-55  Loan_Duration_36  Loan_Duration_60  Two_wheeler_no  \\\n",
       "0               0                 1                 0               0   \n",
       "1               0                 1                 0               1   \n",
       "3               0                 1                 0               1   \n",
       "4               0                 1                 0               0   \n",
       "5               0                 0                 1               1   \n",
       "\n",
       "   Two_wheeler_yes  \n",
       "0                1  \n",
       "1                0  \n",
       "3                0  \n",
       "4                1  \n",
       "5                0  \n",
       "\n",
       "[5 rows x 23 columns]"
      ]
     },
     "execution_count": 140,
     "metadata": {},
     "output_type": "execute_result"
    }
   ],
   "source": [
    "filtered_df.head()"
   ]
  },
  {
   "cell_type": "markdown",
   "id": "6d0881b9",
   "metadata": {},
   "source": [
    "### Question 4.\n",
    "Is there a correlation between two numerical variables? Is it positive or negative"
   ]
  },
  {
   "cell_type": "code",
   "execution_count": 141,
   "id": "1bffe4ff",
   "metadata": {},
   "outputs": [],
   "source": [
    "correlation_matrix=filtered_df.corr()"
   ]
  },
  {
   "cell_type": "code",
   "execution_count": 142,
   "id": "cc54f723",
   "metadata": {},
   "outputs": [
    {
     "name": "stdout",
     "output_type": "stream",
     "text": [
      "['Customer_ID', 'Debt_To_Income_Ratio', 'Amount_Requested_Loan', 'Amount_Funded_By_Investors', 'Interest_Rate', 'Family_Income', 'Credit_Score', 'Employment_Length', 'Age_Band_25-39', 'Age_Band_25-40', 'Age_Band_25-42', 'Age_Band_25-43', 'Age_Band_25-44', 'Age_Band_25-45', 'Age_Band_30-40', 'Age_Band_35-45', 'Age_Band_35-45 ', 'Age_Band_45-50', 'Age_Band_45-55', 'Loan_Duration_36', 'Loan_Duration_60', 'Two_wheeler_no', 'Two_wheeler_yes']\n"
     ]
    }
   ],
   "source": [
    "x=filtered_df.columns.to_list()\n",
    "print(x)"
   ]
  },
  {
   "cell_type": "code",
   "execution_count": 143,
   "id": "d922ac2b",
   "metadata": {},
   "outputs": [
    {
     "name": "stdout",
     "output_type": "stream",
     "text": [
      "\u001b[1;34mPositive Correlation \u001b[m between Loan Requested and Family Income with correlation coefficient \u001b[1;34m0.31439786873770253\n"
     ]
    }
   ],
   "source": [
    "features=['Amount_Requested_Loan','Family_Income']\n",
    "corel_coeff=np.corrcoef(filtered_df[features[0]],filtered_df[features[1]])[0,1]\n",
    "if corel_coeff > 0:\n",
    "    print(f'\\033[1;34mPositive Correlation \\033[m between Loan Requested and Family Income with correlation coefficient \\033[1;34m{corel_coeff}')\n",
    "elif corel_coeff <0:\n",
    "    print(f'\\033[1;34mNegative Correlation \\033[m between Loan Requested and Family Income with correlation coefficient \\033[1;34m{corel_coeff}')\n",
    "else:\n",
    "    print(f'\\033[1;34mNo Correlation \\033[m between Loan Requested and Family Income with correlation coefficient \\033[1;34m{corel_coeff}')"
   ]
  },
  {
   "cell_type": "code",
   "execution_count": null,
   "id": "097352d4",
   "metadata": {},
   "outputs": [],
   "source": []
  }
 ],
 "metadata": {
  "kernelspec": {
   "display_name": "Python 3 (ipykernel)",
   "language": "python",
   "name": "python3"
  },
  "language_info": {
   "codemirror_mode": {
    "name": "ipython",
    "version": 3
   },
   "file_extension": ".py",
   "mimetype": "text/x-python",
   "name": "python",
   "nbconvert_exporter": "python",
   "pygments_lexer": "ipython3",
   "version": "3.11.5"
  }
 },
 "nbformat": 4,
 "nbformat_minor": 5
}
