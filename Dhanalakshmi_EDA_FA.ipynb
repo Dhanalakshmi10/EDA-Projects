{
 "cells": [
  {
   "cell_type": "markdown",
   "id": "e97fb1a3",
   "metadata": {},
   "source": [
    "# Dhanalakshmi_ EDA & FE _FA"
   ]
  },
  {
   "cell_type": "code",
   "execution_count": 12,
   "id": "025723e4",
   "metadata": {},
   "outputs": [],
   "source": [
    "import pandas as pd\n",
    "import numpy as np\n",
    "import os\n",
    "import warnings\n",
    "warnings.filterwarnings('ignore')\n",
    "import matplotlib.pyplot as plt\n",
    "import seaborn as sns"
   ]
  },
  {
   "cell_type": "code",
   "execution_count": 7,
   "id": "ecc5f64b",
   "metadata": {},
   "outputs": [],
   "source": [
    "df1=pd.read_excel(r'C:\\\\Users\\Parth\\Desktop\\EDA_MIT\\IPL-Dataset-EDA-Part-B.xlsx')"
   ]
  },
  {
   "cell_type": "code",
   "execution_count": 8,
   "id": "ff3484a9",
   "metadata": {},
   "outputs": [],
   "source": [
    "df=df1.copy()"
   ]
  },
  {
   "cell_type": "code",
   "execution_count": 9,
   "id": "035623a3",
   "metadata": {},
   "outputs": [
    {
     "data": {
      "text/html": [
       "<div>\n",
       "<style scoped>\n",
       "    .dataframe tbody tr th:only-of-type {\n",
       "        vertical-align: middle;\n",
       "    }\n",
       "\n",
       "    .dataframe tbody tr th {\n",
       "        vertical-align: top;\n",
       "    }\n",
       "\n",
       "    .dataframe thead th {\n",
       "        text-align: right;\n",
       "    }\n",
       "</style>\n",
       "<table border=\"1\" class=\"dataframe\">\n",
       "  <thead>\n",
       "    <tr style=\"text-align: right;\">\n",
       "      <th></th>\n",
       "      <th>Sl.NO.</th>\n",
       "      <th>PLAYER NAME</th>\n",
       "      <th>AGE</th>\n",
       "      <th>COUNTRY</th>\n",
       "      <th>TEAM</th>\n",
       "      <th>PLAYING ROLE</th>\n",
       "      <th>T-RUNS</th>\n",
       "      <th>T-WKTS</th>\n",
       "      <th>ODI-RUNS-S</th>\n",
       "      <th>ODI-SR-B</th>\n",
       "      <th>...</th>\n",
       "      <th>SR-B</th>\n",
       "      <th>SIXERS</th>\n",
       "      <th>RUNS-C</th>\n",
       "      <th>WKTS</th>\n",
       "      <th>AVE-BL</th>\n",
       "      <th>ECON</th>\n",
       "      <th>SR-BL</th>\n",
       "      <th>AUCTION YEAR</th>\n",
       "      <th>BASE PRICE</th>\n",
       "      <th>SOLD PRICE</th>\n",
       "    </tr>\n",
       "  </thead>\n",
       "  <tbody>\n",
       "    <tr>\n",
       "      <th>0</th>\n",
       "      <td>1</td>\n",
       "      <td>Abdulla, YA</td>\n",
       "      <td>2</td>\n",
       "      <td>SA</td>\n",
       "      <td>KXIP</td>\n",
       "      <td>Allrounder</td>\n",
       "      <td>0</td>\n",
       "      <td>0</td>\n",
       "      <td>0</td>\n",
       "      <td>0.00</td>\n",
       "      <td>...</td>\n",
       "      <td>0.00</td>\n",
       "      <td>0</td>\n",
       "      <td>307</td>\n",
       "      <td>15</td>\n",
       "      <td>20.47</td>\n",
       "      <td>8.90</td>\n",
       "      <td>13.93</td>\n",
       "      <td>2009</td>\n",
       "      <td>50000</td>\n",
       "      <td>50000</td>\n",
       "    </tr>\n",
       "    <tr>\n",
       "      <th>1</th>\n",
       "      <td>2</td>\n",
       "      <td>Abdur Razzak</td>\n",
       "      <td>2</td>\n",
       "      <td>BAN</td>\n",
       "      <td>RCB</td>\n",
       "      <td>Bowler</td>\n",
       "      <td>214</td>\n",
       "      <td>18</td>\n",
       "      <td>657</td>\n",
       "      <td>71.41</td>\n",
       "      <td>...</td>\n",
       "      <td>0.00</td>\n",
       "      <td>0</td>\n",
       "      <td>29</td>\n",
       "      <td>0</td>\n",
       "      <td>0.00</td>\n",
       "      <td>14.50</td>\n",
       "      <td>0.00</td>\n",
       "      <td>2008</td>\n",
       "      <td>50000</td>\n",
       "      <td>50000</td>\n",
       "    </tr>\n",
       "    <tr>\n",
       "      <th>2</th>\n",
       "      <td>3</td>\n",
       "      <td>Agarkar, AB</td>\n",
       "      <td>2</td>\n",
       "      <td>IND</td>\n",
       "      <td>KKR</td>\n",
       "      <td>Bowler</td>\n",
       "      <td>571</td>\n",
       "      <td>58</td>\n",
       "      <td>1269</td>\n",
       "      <td>80.62</td>\n",
       "      <td>...</td>\n",
       "      <td>121.01</td>\n",
       "      <td>5</td>\n",
       "      <td>1059</td>\n",
       "      <td>29</td>\n",
       "      <td>36.52</td>\n",
       "      <td>8.81</td>\n",
       "      <td>24.90</td>\n",
       "      <td>2008</td>\n",
       "      <td>200000</td>\n",
       "      <td>350000</td>\n",
       "    </tr>\n",
       "    <tr>\n",
       "      <th>3</th>\n",
       "      <td>4</td>\n",
       "      <td>Ashwin, R</td>\n",
       "      <td>1</td>\n",
       "      <td>IND</td>\n",
       "      <td>CSK</td>\n",
       "      <td>Bowler</td>\n",
       "      <td>284</td>\n",
       "      <td>31</td>\n",
       "      <td>241</td>\n",
       "      <td>84.56</td>\n",
       "      <td>...</td>\n",
       "      <td>76.32</td>\n",
       "      <td>0</td>\n",
       "      <td>1125</td>\n",
       "      <td>49</td>\n",
       "      <td>22.96</td>\n",
       "      <td>6.23</td>\n",
       "      <td>22.14</td>\n",
       "      <td>2011</td>\n",
       "      <td>100000</td>\n",
       "      <td>850000</td>\n",
       "    </tr>\n",
       "    <tr>\n",
       "      <th>4</th>\n",
       "      <td>5</td>\n",
       "      <td>Badrinath, S</td>\n",
       "      <td>2</td>\n",
       "      <td>IND</td>\n",
       "      <td>CSK</td>\n",
       "      <td>Batsman</td>\n",
       "      <td>63</td>\n",
       "      <td>0</td>\n",
       "      <td>79</td>\n",
       "      <td>45.93</td>\n",
       "      <td>...</td>\n",
       "      <td>120.71</td>\n",
       "      <td>28</td>\n",
       "      <td>0</td>\n",
       "      <td>0</td>\n",
       "      <td>0.00</td>\n",
       "      <td>0.00</td>\n",
       "      <td>0.00</td>\n",
       "      <td>2011</td>\n",
       "      <td>100000</td>\n",
       "      <td>800000</td>\n",
       "    </tr>\n",
       "  </tbody>\n",
       "</table>\n",
       "<p>5 rows × 26 columns</p>\n",
       "</div>"
      ],
      "text/plain": [
       "   Sl.NO.   PLAYER NAME  AGE COUNTRY  TEAM PLAYING ROLE  T-RUNS  T-WKTS  \\\n",
       "0       1   Abdulla, YA    2      SA  KXIP   Allrounder       0       0   \n",
       "1       2  Abdur Razzak    2     BAN   RCB       Bowler     214      18   \n",
       "2       3   Agarkar, AB    2     IND   KKR       Bowler     571      58   \n",
       "3       4     Ashwin, R    1     IND   CSK       Bowler     284      31   \n",
       "4       5  Badrinath, S    2     IND   CSK      Batsman      63       0   \n",
       "\n",
       "   ODI-RUNS-S  ODI-SR-B  ...    SR-B  SIXERS  RUNS-C  WKTS  AVE-BL   ECON  \\\n",
       "0           0      0.00  ...    0.00       0     307    15   20.47   8.90   \n",
       "1         657     71.41  ...    0.00       0      29     0    0.00  14.50   \n",
       "2        1269     80.62  ...  121.01       5    1059    29   36.52   8.81   \n",
       "3         241     84.56  ...   76.32       0    1125    49   22.96   6.23   \n",
       "4          79     45.93  ...  120.71      28       0     0    0.00   0.00   \n",
       "\n",
       "   SR-BL  AUCTION YEAR  BASE PRICE  SOLD PRICE  \n",
       "0  13.93          2009       50000       50000  \n",
       "1   0.00          2008       50000       50000  \n",
       "2  24.90          2008      200000      350000  \n",
       "3  22.14          2011      100000      850000  \n",
       "4   0.00          2011      100000      800000  \n",
       "\n",
       "[5 rows x 26 columns]"
      ]
     },
     "execution_count": 9,
     "metadata": {},
     "output_type": "execute_result"
    }
   ],
   "source": [
    "df.head()"
   ]
  },
  {
   "cell_type": "code",
   "execution_count": 10,
   "id": "b7c4c13d",
   "metadata": {},
   "outputs": [
    {
     "name": "stdout",
     "output_type": "stream",
     "text": [
      "<class 'pandas.core.frame.DataFrame'>\n",
      "RangeIndex: 130 entries, 0 to 129\n",
      "Data columns (total 26 columns):\n",
      " #   Column         Non-Null Count  Dtype  \n",
      "---  ------         --------------  -----  \n",
      " 0   Sl.NO.         130 non-null    int64  \n",
      " 1   PLAYER NAME    130 non-null    object \n",
      " 2   AGE            130 non-null    int64  \n",
      " 3   COUNTRY        130 non-null    object \n",
      " 4   TEAM           130 non-null    object \n",
      " 5   PLAYING ROLE   130 non-null    object \n",
      " 6   T-RUNS         130 non-null    int64  \n",
      " 7   T-WKTS         130 non-null    int64  \n",
      " 8   ODI-RUNS-S     130 non-null    int64  \n",
      " 9   ODI-SR-B       130 non-null    float64\n",
      " 10  ODI-WKTS       130 non-null    int64  \n",
      " 11  ODI-SR-BL      130 non-null    float64\n",
      " 12  CAPTAINCY EXP  130 non-null    int64  \n",
      " 13  RUNS-S         130 non-null    int64  \n",
      " 14  HS             130 non-null    int64  \n",
      " 15  AVE            130 non-null    float64\n",
      " 16  SR-B           130 non-null    float64\n",
      " 17  SIXERS         130 non-null    int64  \n",
      " 18  RUNS-C         130 non-null    int64  \n",
      " 19  WKTS           130 non-null    int64  \n",
      " 20  AVE-BL         130 non-null    float64\n",
      " 21  ECON           130 non-null    float64\n",
      " 22  SR-BL          130 non-null    float64\n",
      " 23  AUCTION YEAR   130 non-null    int64  \n",
      " 24  BASE PRICE     130 non-null    int64  \n",
      " 25  SOLD PRICE     130 non-null    int64  \n",
      "dtypes: float64(7), int64(15), object(4)\n",
      "memory usage: 26.5+ KB\n"
     ]
    }
   ],
   "source": [
    "df.info()"
   ]
  },
  {
   "cell_type": "code",
   "execution_count": 11,
   "id": "8afc6bfc",
   "metadata": {},
   "outputs": [
    {
     "data": {
      "text/html": [
       "<div>\n",
       "<style scoped>\n",
       "    .dataframe tbody tr th:only-of-type {\n",
       "        vertical-align: middle;\n",
       "    }\n",
       "\n",
       "    .dataframe tbody tr th {\n",
       "        vertical-align: top;\n",
       "    }\n",
       "\n",
       "    .dataframe thead th {\n",
       "        text-align: right;\n",
       "    }\n",
       "</style>\n",
       "<table border=\"1\" class=\"dataframe\">\n",
       "  <thead>\n",
       "    <tr style=\"text-align: right;\">\n",
       "      <th></th>\n",
       "      <th>Sl.NO.</th>\n",
       "      <th>AGE</th>\n",
       "      <th>T-RUNS</th>\n",
       "      <th>T-WKTS</th>\n",
       "      <th>ODI-RUNS-S</th>\n",
       "      <th>ODI-SR-B</th>\n",
       "      <th>ODI-WKTS</th>\n",
       "      <th>ODI-SR-BL</th>\n",
       "      <th>CAPTAINCY EXP</th>\n",
       "      <th>RUNS-S</th>\n",
       "      <th>...</th>\n",
       "      <th>SR-B</th>\n",
       "      <th>SIXERS</th>\n",
       "      <th>RUNS-C</th>\n",
       "      <th>WKTS</th>\n",
       "      <th>AVE-BL</th>\n",
       "      <th>ECON</th>\n",
       "      <th>SR-BL</th>\n",
       "      <th>AUCTION YEAR</th>\n",
       "      <th>BASE PRICE</th>\n",
       "      <th>SOLD PRICE</th>\n",
       "    </tr>\n",
       "  </thead>\n",
       "  <tbody>\n",
       "    <tr>\n",
       "      <th>count</th>\n",
       "      <td>130.000000</td>\n",
       "      <td>130.000000</td>\n",
       "      <td>130.000000</td>\n",
       "      <td>130.000000</td>\n",
       "      <td>130.000000</td>\n",
       "      <td>130.000000</td>\n",
       "      <td>130.000000</td>\n",
       "      <td>130.000000</td>\n",
       "      <td>130.000000</td>\n",
       "      <td>130.000000</td>\n",
       "      <td>...</td>\n",
       "      <td>130.000000</td>\n",
       "      <td>130.000000</td>\n",
       "      <td>130.000000</td>\n",
       "      <td>130.000000</td>\n",
       "      <td>130.000000</td>\n",
       "      <td>130.000000</td>\n",
       "      <td>130.000000</td>\n",
       "      <td>130.000000</td>\n",
       "      <td>1.300000e+02</td>\n",
       "      <td>1.300000e+02</td>\n",
       "    </tr>\n",
       "    <tr>\n",
       "      <th>mean</th>\n",
       "      <td>65.500000</td>\n",
       "      <td>2.092308</td>\n",
       "      <td>2166.715385</td>\n",
       "      <td>66.530769</td>\n",
       "      <td>2508.738462</td>\n",
       "      <td>71.164385</td>\n",
       "      <td>76.076923</td>\n",
       "      <td>34.033846</td>\n",
       "      <td>0.315385</td>\n",
       "      <td>514.246154</td>\n",
       "      <td>...</td>\n",
       "      <td>111.053462</td>\n",
       "      <td>17.692308</td>\n",
       "      <td>475.523077</td>\n",
       "      <td>17.169231</td>\n",
       "      <td>23.110231</td>\n",
       "      <td>6.204462</td>\n",
       "      <td>17.382615</td>\n",
       "      <td>2009.092308</td>\n",
       "      <td>1.922308e+05</td>\n",
       "      <td>5.212231e+05</td>\n",
       "    </tr>\n",
       "    <tr>\n",
       "      <th>std</th>\n",
       "      <td>37.671829</td>\n",
       "      <td>0.576627</td>\n",
       "      <td>3305.646757</td>\n",
       "      <td>142.676855</td>\n",
       "      <td>3582.205625</td>\n",
       "      <td>25.898440</td>\n",
       "      <td>111.205070</td>\n",
       "      <td>26.751749</td>\n",
       "      <td>0.466466</td>\n",
       "      <td>615.226335</td>\n",
       "      <td>...</td>\n",
       "      <td>35.928907</td>\n",
       "      <td>23.828146</td>\n",
       "      <td>558.314049</td>\n",
       "      <td>21.816763</td>\n",
       "      <td>20.802057</td>\n",
       "      <td>4.941531</td>\n",
       "      <td>15.273422</td>\n",
       "      <td>1.377821</td>\n",
       "      <td>1.530973e+05</td>\n",
       "      <td>4.068074e+05</td>\n",
       "    </tr>\n",
       "    <tr>\n",
       "      <th>min</th>\n",
       "      <td>1.000000</td>\n",
       "      <td>1.000000</td>\n",
       "      <td>0.000000</td>\n",
       "      <td>0.000000</td>\n",
       "      <td>0.000000</td>\n",
       "      <td>0.000000</td>\n",
       "      <td>0.000000</td>\n",
       "      <td>0.000000</td>\n",
       "      <td>0.000000</td>\n",
       "      <td>0.000000</td>\n",
       "      <td>...</td>\n",
       "      <td>0.000000</td>\n",
       "      <td>0.000000</td>\n",
       "      <td>0.000000</td>\n",
       "      <td>0.000000</td>\n",
       "      <td>0.000000</td>\n",
       "      <td>0.000000</td>\n",
       "      <td>0.000000</td>\n",
       "      <td>2008.000000</td>\n",
       "      <td>2.000000e+04</td>\n",
       "      <td>2.000000e+04</td>\n",
       "    </tr>\n",
       "    <tr>\n",
       "      <th>25%</th>\n",
       "      <td>33.250000</td>\n",
       "      <td>2.000000</td>\n",
       "      <td>25.500000</td>\n",
       "      <td>0.000000</td>\n",
       "      <td>73.250000</td>\n",
       "      <td>65.650000</td>\n",
       "      <td>0.000000</td>\n",
       "      <td>0.000000</td>\n",
       "      <td>0.000000</td>\n",
       "      <td>39.000000</td>\n",
       "      <td>...</td>\n",
       "      <td>98.237500</td>\n",
       "      <td>1.000000</td>\n",
       "      <td>0.000000</td>\n",
       "      <td>0.000000</td>\n",
       "      <td>0.000000</td>\n",
       "      <td>0.000000</td>\n",
       "      <td>0.000000</td>\n",
       "      <td>2008.000000</td>\n",
       "      <td>1.000000e+05</td>\n",
       "      <td>2.250000e+05</td>\n",
       "    </tr>\n",
       "    <tr>\n",
       "      <th>50%</th>\n",
       "      <td>65.500000</td>\n",
       "      <td>2.000000</td>\n",
       "      <td>542.500000</td>\n",
       "      <td>7.000000</td>\n",
       "      <td>835.000000</td>\n",
       "      <td>78.225000</td>\n",
       "      <td>18.500000</td>\n",
       "      <td>36.600000</td>\n",
       "      <td>0.000000</td>\n",
       "      <td>172.000000</td>\n",
       "      <td>...</td>\n",
       "      <td>118.510000</td>\n",
       "      <td>6.000000</td>\n",
       "      <td>297.000000</td>\n",
       "      <td>8.500000</td>\n",
       "      <td>24.785000</td>\n",
       "      <td>7.380000</td>\n",
       "      <td>19.935000</td>\n",
       "      <td>2008.000000</td>\n",
       "      <td>2.000000e+05</td>\n",
       "      <td>4.375000e+05</td>\n",
       "    </tr>\n",
       "    <tr>\n",
       "      <th>75%</th>\n",
       "      <td>97.750000</td>\n",
       "      <td>2.000000</td>\n",
       "      <td>3002.250000</td>\n",
       "      <td>47.500000</td>\n",
       "      <td>3523.500000</td>\n",
       "      <td>86.790000</td>\n",
       "      <td>106.000000</td>\n",
       "      <td>45.325000</td>\n",
       "      <td>1.000000</td>\n",
       "      <td>925.250000</td>\n",
       "      <td>...</td>\n",
       "      <td>129.102500</td>\n",
       "      <td>29.750000</td>\n",
       "      <td>689.250000</td>\n",
       "      <td>23.750000</td>\n",
       "      <td>35.580000</td>\n",
       "      <td>8.247500</td>\n",
       "      <td>26.212500</td>\n",
       "      <td>2011.000000</td>\n",
       "      <td>2.250000e+05</td>\n",
       "      <td>7.000000e+05</td>\n",
       "    </tr>\n",
       "    <tr>\n",
       "      <th>max</th>\n",
       "      <td>130.000000</td>\n",
       "      <td>3.000000</td>\n",
       "      <td>15470.000000</td>\n",
       "      <td>800.000000</td>\n",
       "      <td>18426.000000</td>\n",
       "      <td>116.660000</td>\n",
       "      <td>534.000000</td>\n",
       "      <td>150.000000</td>\n",
       "      <td>1.000000</td>\n",
       "      <td>2254.000000</td>\n",
       "      <td>...</td>\n",
       "      <td>235.490000</td>\n",
       "      <td>129.000000</td>\n",
       "      <td>1975.000000</td>\n",
       "      <td>83.000000</td>\n",
       "      <td>126.300000</td>\n",
       "      <td>38.110000</td>\n",
       "      <td>100.200000</td>\n",
       "      <td>2011.000000</td>\n",
       "      <td>1.350000e+06</td>\n",
       "      <td>1.800000e+06</td>\n",
       "    </tr>\n",
       "  </tbody>\n",
       "</table>\n",
       "<p>8 rows × 22 columns</p>\n",
       "</div>"
      ],
      "text/plain": [
       "           Sl.NO.         AGE        T-RUNS      T-WKTS    ODI-RUNS-S  \\\n",
       "count  130.000000  130.000000    130.000000  130.000000    130.000000   \n",
       "mean    65.500000    2.092308   2166.715385   66.530769   2508.738462   \n",
       "std     37.671829    0.576627   3305.646757  142.676855   3582.205625   \n",
       "min      1.000000    1.000000      0.000000    0.000000      0.000000   \n",
       "25%     33.250000    2.000000     25.500000    0.000000     73.250000   \n",
       "50%     65.500000    2.000000    542.500000    7.000000    835.000000   \n",
       "75%     97.750000    2.000000   3002.250000   47.500000   3523.500000   \n",
       "max    130.000000    3.000000  15470.000000  800.000000  18426.000000   \n",
       "\n",
       "         ODI-SR-B    ODI-WKTS   ODI-SR-BL  CAPTAINCY EXP       RUNS-S  ...  \\\n",
       "count  130.000000  130.000000  130.000000     130.000000   130.000000  ...   \n",
       "mean    71.164385   76.076923   34.033846       0.315385   514.246154  ...   \n",
       "std     25.898440  111.205070   26.751749       0.466466   615.226335  ...   \n",
       "min      0.000000    0.000000    0.000000       0.000000     0.000000  ...   \n",
       "25%     65.650000    0.000000    0.000000       0.000000    39.000000  ...   \n",
       "50%     78.225000   18.500000   36.600000       0.000000   172.000000  ...   \n",
       "75%     86.790000  106.000000   45.325000       1.000000   925.250000  ...   \n",
       "max    116.660000  534.000000  150.000000       1.000000  2254.000000  ...   \n",
       "\n",
       "             SR-B      SIXERS       RUNS-C        WKTS      AVE-BL  \\\n",
       "count  130.000000  130.000000   130.000000  130.000000  130.000000   \n",
       "mean   111.053462   17.692308   475.523077   17.169231   23.110231   \n",
       "std     35.928907   23.828146   558.314049   21.816763   20.802057   \n",
       "min      0.000000    0.000000     0.000000    0.000000    0.000000   \n",
       "25%     98.237500    1.000000     0.000000    0.000000    0.000000   \n",
       "50%    118.510000    6.000000   297.000000    8.500000   24.785000   \n",
       "75%    129.102500   29.750000   689.250000   23.750000   35.580000   \n",
       "max    235.490000  129.000000  1975.000000   83.000000  126.300000   \n",
       "\n",
       "             ECON       SR-BL  AUCTION YEAR    BASE PRICE    SOLD PRICE  \n",
       "count  130.000000  130.000000    130.000000  1.300000e+02  1.300000e+02  \n",
       "mean     6.204462   17.382615   2009.092308  1.922308e+05  5.212231e+05  \n",
       "std      4.941531   15.273422      1.377821  1.530973e+05  4.068074e+05  \n",
       "min      0.000000    0.000000   2008.000000  2.000000e+04  2.000000e+04  \n",
       "25%      0.000000    0.000000   2008.000000  1.000000e+05  2.250000e+05  \n",
       "50%      7.380000   19.935000   2008.000000  2.000000e+05  4.375000e+05  \n",
       "75%      8.247500   26.212500   2011.000000  2.250000e+05  7.000000e+05  \n",
       "max     38.110000  100.200000   2011.000000  1.350000e+06  1.800000e+06  \n",
       "\n",
       "[8 rows x 22 columns]"
      ]
     },
     "execution_count": 11,
     "metadata": {},
     "output_type": "execute_result"
    }
   ],
   "source": [
    "df.describe()"
   ]
  },
  {
   "cell_type": "markdown",
   "id": "8a6667a0",
   "metadata": {},
   "source": [
    "### Q16. SOLD PRICE is ___ distribution"
   ]
  },
  {
   "cell_type": "code",
   "execution_count": 15,
   "id": "a905a5f6",
   "metadata": {},
   "outputs": [
    {
     "data": {
      "image/png": "[encoded data removed]",
      "text/plain": [
       "<Figure size 432x288 with 1 Axes>"
      ]
     },
     "metadata": {
      "needs_background": "light"
     },
     "output_type": "display_data"
    }
   ],
   "source": [
    "sns.histplot(data=df,x='SOLD PRICE',kde=True)\n",
    "plt.show()\n",
    "# we see that it is right skewed."
   ]
  },
  {
   "cell_type": "code",
   "execution_count": 16,
   "id": "1a64838e",
   "metadata": {},
   "outputs": [
    {
     "data": {
      "text/plain": [
       "<AxesSubplot:xlabel='SOLD PRICE', ylabel='Density'>"
      ]
     },
     "execution_count": 16,
     "metadata": {},
     "output_type": "execute_result"
    },
    {
     "data": {
      "image/png": "[encoded data removed]",
      "text/plain": [
       "<Figure size 432x288 with 1 Axes>"
      ]
     },
     "metadata": {
      "needs_background": "light"
     },
     "output_type": "display_data"
    }
   ],
   "source": [
    "sns.kdeplot(data=df,x='SOLD PRICE')"
   ]
  },
  {
   "cell_type": "markdown",
   "id": "acc6bc9b",
   "metadata": {},
   "source": [
    "### Q17. what is the frequency count of country 'INDIA'"
   ]
  },
  {
   "cell_type": "code",
   "execution_count": 18,
   "id": "5abee455",
   "metadata": {},
   "outputs": [
    {
     "data": {
      "text/plain": [
       "IND    53\n",
       "AUS    22\n",
       "SA     16\n",
       "SL     12\n",
       "PAK     9\n",
       "NZ      7\n",
       "WI      6\n",
       "ENG     3\n",
       "BAN     1\n",
       "ZIM     1\n",
       "Name: COUNTRY, dtype: int64"
      ]
     },
     "execution_count": 18,
     "metadata": {},
     "output_type": "execute_result"
    }
   ],
   "source": [
    "country_df=df.COUNTRY.value_counts()\n",
    "country_df\n",
    "# Count of each country"
   ]
  },
  {
   "cell_type": "code",
   "execution_count": 20,
   "id": "4851e2a0",
   "metadata": {},
   "outputs": [
    {
     "data": {
      "text/plain": [
       "Index(['IND', 'AUS', 'SA', 'SL', 'PAK', 'NZ', 'WI', 'ENG', 'BAN', 'ZIM'], dtype='object')"
      ]
     },
     "execution_count": 20,
     "metadata": {},
     "output_type": "execute_result"
    }
   ],
   "source": [
    "country_df.index"
   ]
  },
  {
   "cell_type": "code",
   "execution_count": 22,
   "id": "2a3afb7e",
   "metadata": {},
   "outputs": [
    {
     "data": {
      "image/png": "[encoded data removed]",
      "text/plain": [
       "<Figure size 432x288 with 1 Axes>"
      ]
     },
     "metadata": {
      "needs_background": "light"
     },
     "output_type": "display_data"
    }
   ],
   "source": [
    "a=plt.bar(country_df.index,country_df) \n",
    "plt.bar_label(a)\n",
    "plt.show()\n",
    "# We clearly see that ind has a frewuency count of 53"
   ]
  },
  {
   "cell_type": "markdown",
   "id": "3d4d3ffa",
   "metadata": {},
   "source": [
    "### Q18. Which player has hit highest number of sixers?"
   ]
  },
  {
   "cell_type": "code",
   "execution_count": 23,
   "id": "9e0f2427",
   "metadata": {},
   "outputs": [
    {
     "data": {
      "text/html": [
       "<div>\n",
       "<style scoped>\n",
       "    .dataframe tbody tr th:only-of-type {\n",
       "        vertical-align: middle;\n",
       "    }\n",
       "\n",
       "    .dataframe tbody tr th {\n",
       "        vertical-align: top;\n",
       "    }\n",
       "\n",
       "    .dataframe thead th {\n",
       "        text-align: right;\n",
       "    }\n",
       "</style>\n",
       "<table border=\"1\" class=\"dataframe\">\n",
       "  <thead>\n",
       "    <tr style=\"text-align: right;\">\n",
       "      <th></th>\n",
       "      <th>PLAYER NAME</th>\n",
       "      <th>SIXERS</th>\n",
       "    </tr>\n",
       "  </thead>\n",
       "  <tbody>\n",
       "    <tr>\n",
       "      <th>26</th>\n",
       "      <td>Gayle, CH</td>\n",
       "      <td>129</td>\n",
       "    </tr>\n",
       "    <tr>\n",
       "      <th>88</th>\n",
       "      <td>Raina, SK</td>\n",
       "      <td>97</td>\n",
       "    </tr>\n",
       "    <tr>\n",
       "      <th>28</th>\n",
       "      <td>Gilchrist, AC</td>\n",
       "      <td>86</td>\n",
       "    </tr>\n",
       "    <tr>\n",
       "      <th>97</th>\n",
       "      <td>Sharma, RG</td>\n",
       "      <td>82</td>\n",
       "    </tr>\n",
       "    <tr>\n",
       "      <th>82</th>\n",
       "      <td>Pathan, YK</td>\n",
       "      <td>81</td>\n",
       "    </tr>\n",
       "    <tr>\n",
       "      <th>...</th>\n",
       "      <td>...</td>\n",
       "      <td>...</td>\n",
       "    </tr>\n",
       "    <tr>\n",
       "      <th>76</th>\n",
       "      <td>Ojha, PP</td>\n",
       "      <td>0</td>\n",
       "    </tr>\n",
       "    <tr>\n",
       "      <th>78</th>\n",
       "      <td>Pankaj Singh</td>\n",
       "      <td>0</td>\n",
       "    </tr>\n",
       "    <tr>\n",
       "      <th>79</th>\n",
       "      <td>Patel, MM</td>\n",
       "      <td>0</td>\n",
       "    </tr>\n",
       "    <tr>\n",
       "      <th>98</th>\n",
       "      <td>Shoaib Akhtar</td>\n",
       "      <td>0</td>\n",
       "    </tr>\n",
       "    <tr>\n",
       "      <th>129</th>\n",
       "      <td>Zoysa, DNT</td>\n",
       "      <td>0</td>\n",
       "    </tr>\n",
       "  </tbody>\n",
       "</table>\n",
       "<p>130 rows × 2 columns</p>\n",
       "</div>"
      ],
      "text/plain": [
       "       PLAYER NAME  SIXERS\n",
       "26       Gayle, CH     129\n",
       "88       Raina, SK      97\n",
       "28   Gilchrist, AC      86\n",
       "97      Sharma, RG      82\n",
       "82      Pathan, YK      81\n",
       "..             ...     ...\n",
       "76        Ojha, PP       0\n",
       "78    Pankaj Singh       0\n",
       "79       Patel, MM       0\n",
       "98   Shoaib Akhtar       0\n",
       "129     Zoysa, DNT       0\n",
       "\n",
       "[130 rows x 2 columns]"
      ]
     },
     "execution_count": 23,
     "metadata": {},
     "output_type": "execute_result"
    }
   ],
   "source": [
    "df[[\"PLAYER NAME\",\"SIXERS\"]].sort_values(by='SIXERS',ascending=False)"
   ]
  },
  {
   "cell_type": "markdown",
   "id": "6c250915",
   "metadata": {},
   "source": [
    "### Q19. Which team has recorded more number of sixers?"
   ]
  },
  {
   "cell_type": "code",
   "execution_count": 41,
   "id": "7c9f1ade",
   "metadata": {},
   "outputs": [
    {
     "data": {
      "text/html": [
       "<div>\n",
       "<style scoped>\n",
       "    .dataframe tbody tr th:only-of-type {\n",
       "        vertical-align: middle;\n",
       "    }\n",
       "\n",
       "    .dataframe tbody tr th {\n",
       "        vertical-align: top;\n",
       "    }\n",
       "\n",
       "    .dataframe thead th {\n",
       "        text-align: right;\n",
       "    }\n",
       "</style>\n",
       "<table border=\"1\" class=\"dataframe\">\n",
       "  <thead>\n",
       "    <tr style=\"text-align: right;\">\n",
       "      <th></th>\n",
       "      <th>SIXERS</th>\n",
       "    </tr>\n",
       "    <tr>\n",
       "      <th>TEAM</th>\n",
       "      <th></th>\n",
       "    </tr>\n",
       "  </thead>\n",
       "  <tbody>\n",
       "    <tr>\n",
       "      <th>KKR+</th>\n",
       "      <td>327</td>\n",
       "    </tr>\n",
       "    <tr>\n",
       "      <th>CSK</th>\n",
       "      <td>311</td>\n",
       "    </tr>\n",
       "    <tr>\n",
       "      <th>DC+</th>\n",
       "      <td>282</td>\n",
       "    </tr>\n",
       "    <tr>\n",
       "      <th>RCB+</th>\n",
       "      <td>246</td>\n",
       "    </tr>\n",
       "    <tr>\n",
       "      <th>RR+</th>\n",
       "      <td>184</td>\n",
       "    </tr>\n",
       "    <tr>\n",
       "      <th>KXIP+</th>\n",
       "      <td>174</td>\n",
       "    </tr>\n",
       "    <tr>\n",
       "      <th>MI+</th>\n",
       "      <td>161</td>\n",
       "    </tr>\n",
       "    <tr>\n",
       "      <th>DD+</th>\n",
       "      <td>158</td>\n",
       "    </tr>\n",
       "    <tr>\n",
       "      <th>DD</th>\n",
       "      <td>132</td>\n",
       "    </tr>\n",
       "    <tr>\n",
       "      <th>MI</th>\n",
       "      <td>97</td>\n",
       "    </tr>\n",
       "    <tr>\n",
       "      <th>RCB</th>\n",
       "      <td>96</td>\n",
       "    </tr>\n",
       "    <tr>\n",
       "      <th>DC</th>\n",
       "      <td>43</td>\n",
       "    </tr>\n",
       "    <tr>\n",
       "      <th>KXIP</th>\n",
       "      <td>29</td>\n",
       "    </tr>\n",
       "    <tr>\n",
       "      <th>CSK+</th>\n",
       "      <td>24</td>\n",
       "    </tr>\n",
       "    <tr>\n",
       "      <th>RR</th>\n",
       "      <td>19</td>\n",
       "    </tr>\n",
       "    <tr>\n",
       "      <th>KKR</th>\n",
       "      <td>11</td>\n",
       "    </tr>\n",
       "    <tr>\n",
       "      <th>KXI+</th>\n",
       "      <td>6</td>\n",
       "    </tr>\n",
       "  </tbody>\n",
       "</table>\n",
       "</div>"
      ],
      "text/plain": [
       "       SIXERS\n",
       "TEAM         \n",
       "KKR+      327\n",
       "CSK       311\n",
       "DC+       282\n",
       "RCB+      246\n",
       "RR+       184\n",
       "KXIP+     174\n",
       "MI+       161\n",
       "DD+       158\n",
       "DD        132\n",
       "MI         97\n",
       "RCB        96\n",
       "DC         43\n",
       "KXIP       29\n",
       "CSK+       24\n",
       "RR         19\n",
       "KKR        11\n",
       "KXI+        6"
      ]
     },
     "execution_count": 41,
     "metadata": {},
     "output_type": "execute_result"
    }
   ],
   "source": [
    "six_teams=df.groupby('TEAM').agg({'SIXERS':'sum'})\n",
    "six_teams.sort_values(by='SIXERS',ascending=False)\n",
    "#df[[\"TEAM\",\"SIXERS\"]].sort_values(by='SIXERS',ascending=False)"
   ]
  },
  {
   "cell_type": "markdown",
   "id": "e60c7c64",
   "metadata": {},
   "source": [
    "### Q20. what is the value of 1st quartile of the variable 'RUNS-S'"
   ]
  },
  {
   "cell_type": "code",
   "execution_count": 27,
   "id": "83fada39",
   "metadata": {},
   "outputs": [
    {
     "data": {
      "text/plain": [
       "39.0"
      ]
     },
     "execution_count": 27,
     "metadata": {},
     "output_type": "execute_result"
    }
   ],
   "source": [
    "df['RUNS-S'].quantile(0.25)"
   ]
  },
  {
   "cell_type": "code",
   "execution_count": 25,
   "id": "9046ea10",
   "metadata": {},
   "outputs": [
    {
     "data": {
      "text/plain": [
       "<AxesSubplot:xlabel='RUNS-S'>"
      ]
     },
     "execution_count": 25,
     "metadata": {},
     "output_type": "execute_result"
    },
    {
     "data": {
      "image/png": "[encoded data removed]",
      "text/plain": [
       "<Figure size 432x288 with 1 Axes>"
      ]
     },
     "metadata": {
      "needs_background": "light"
     },
     "output_type": "display_data"
    }
   ],
   "source": [
    "sns.boxplot(data=df,x='RUNS-S')"
   ]
  },
  {
   "cell_type": "markdown",
   "id": "c01990ae",
   "metadata": {},
   "source": [
    "### Q21. How many outliers are there in the variable 'HS'"
   ]
  },
  {
   "cell_type": "code",
   "execution_count": 26,
   "id": "b1647aa3",
   "metadata": {},
   "outputs": [
    {
     "data": {
      "text/plain": [
       "<AxesSubplot:xlabel='HS'>"
      ]
     },
     "execution_count": 26,
     "metadata": {},
     "output_type": "execute_result"
    },
    {
     "data": {
      "image/png": "[encoded data removed]",
      "text/plain": [
       "<Figure size 432x288 with 1 Axes>"
      ]
     },
     "metadata": {
      "needs_background": "light"
     },
     "output_type": "display_data"
    }
   ],
   "source": [
    "sns.boxplot(data=df,x='HS')"
   ]
  },
  {
   "cell_type": "code",
   "execution_count": 54,
   "id": "e47a53d9",
   "metadata": {},
   "outputs": [
    {
     "data": {
      "text/plain": [
       "0"
      ]
     },
     "execution_count": 54,
     "metadata": {},
     "output_type": "execute_result"
    }
   ],
   "source": [
    "Q1=df['HS'].quantile(0.25)\n",
    "Q3=df['HS'].quantile(0.75)\n",
    "\n",
    "IQR=Q3-Q1\n",
    "\n",
    "lower_bound=Q1-1.5*IQR\n",
    "upper_bound=Q3+1.5*IQR\n",
    "\n",
    "outliers=df[(df['HS']<lower_bound)|(df['HS']>upper_bound)].shape[0]\n",
    "outliers"
   ]
  },
  {
   "cell_type": "markdown",
   "id": "3443059d",
   "metadata": {},
   "source": [
    "### Q22. If we apply Label Encoder to the Variable 'TEAM', How many unique values will be created?"
   ]
  },
  {
   "cell_type": "code",
   "execution_count": 47,
   "id": "26f906f2",
   "metadata": {},
   "outputs": [
    {
     "name": "stdout",
     "output_type": "stream",
     "text": [
      "Number of unique TEAMs: 17\n"
     ]
    }
   ],
   "source": [
    "from sklearn.preprocessing import LabelEncoder\n",
    "\n",
    "# Create a label encoder\n",
    "label_encoder = LabelEncoder()\n",
    "\n",
    "# Fit the label encoder and transform the 'TEAM' column\n",
    "encoded_teams = label_encoder.fit_transform(df['TEAM'])\n",
    "\n",
    "# Get the number of unique labels\n",
    "num_unique_teams = len(label_encoder.classes_)\n",
    "\n",
    "print(f\"Number of unique TEAMs: {num_unique_teams}\")"
   ]
  },
  {
   "cell_type": "code",
   "execution_count": 55,
   "id": "ad76bafa",
   "metadata": {},
   "outputs": [
    {
     "data": {
      "text/plain": [
       "17"
      ]
     },
     "execution_count": 55,
     "metadata": {},
     "output_type": "execute_result"
    }
   ],
   "source": [
    "df['TEAM'].nunique()"
   ]
  },
  {
   "cell_type": "markdown",
   "id": "50a1f63e",
   "metadata": {},
   "source": [
    "### Q23. You have a dataset with a numerical variable named 'ODI-RUNS-S', and you want to calculate the 95th percentile of it"
   ]
  },
  {
   "cell_type": "code",
   "execution_count": 43,
   "id": "99a6e618",
   "metadata": {},
   "outputs": [
    {
     "data": {
      "text/plain": [
       "10540"
      ]
     },
     "execution_count": 43,
     "metadata": {},
     "output_type": "execute_result"
    }
   ],
   "source": [
    "round(np.percentile(df['ODI-RUNS-S'],95))"
   ]
  },
  {
   "cell_type": "markdown",
   "id": "1deb9a01",
   "metadata": {},
   "source": [
    "### Q24.How many duplicate & null vales are present in data?"
   ]
  },
  {
   "cell_type": "code",
   "execution_count": 29,
   "id": "576f84e0",
   "metadata": {},
   "outputs": [
    {
     "data": {
      "text/plain": [
       "0"
      ]
     },
     "execution_count": 29,
     "metadata": {},
     "output_type": "execute_result"
    }
   ],
   "source": [
    "df.duplicated().sum()\n",
    "#no duplicate values present"
   ]
  },
  {
   "cell_type": "code",
   "execution_count": 31,
   "id": "8a3a3fff",
   "metadata": {},
   "outputs": [
    {
     "data": {
      "text/plain": [
       "Sl.NO.           0\n",
       "PLAYER NAME      0\n",
       "AGE              0\n",
       "COUNTRY          0\n",
       "TEAM             0\n",
       "PLAYING ROLE     0\n",
       "T-RUNS           0\n",
       "T-WKTS           0\n",
       "ODI-RUNS-S       0\n",
       "ODI-SR-B         0\n",
       "ODI-WKTS         0\n",
       "ODI-SR-BL        0\n",
       "CAPTAINCY EXP    0\n",
       "RUNS-S           0\n",
       "HS               0\n",
       "AVE              0\n",
       "SR-B             0\n",
       "SIXERS           0\n",
       "RUNS-C           0\n",
       "WKTS             0\n",
       "AVE-BL           0\n",
       "ECON             0\n",
       "SR-BL            0\n",
       "AUCTION YEAR     0\n",
       "BASE PRICE       0\n",
       "SOLD PRICE       0\n",
       "dtype: int64"
      ]
     },
     "execution_count": 31,
     "metadata": {},
     "output_type": "execute_result"
    }
   ],
   "source": [
    "df.isnull().sum()\n",
    "#no null values are present"
   ]
  },
  {
   "cell_type": "markdown",
   "id": "42302a06",
   "metadata": {},
   "source": [
    "### Q25. Which variable has got highest number of outliers?"
   ]
  },
  {
   "cell_type": "code",
   "execution_count": 57,
   "id": "12f5b21c",
   "metadata": {},
   "outputs": [
    {
     "data": {
      "image/png": "[encoded data removed]",
      "text/plain": [
       "<Figure size 1440x1080 with 1 Axes>"
      ]
     },
     "metadata": {
      "needs_background": "light"
     },
     "output_type": "display_data"
    }
   ],
   "source": [
    "plt.figure(figsize=(20,15))\n",
    "sns.boxplot(data=df)\n",
    "plt.xticks(rotation=45)\n",
    "plt.show()"
   ]
  },
  {
   "cell_type": "code",
   "execution_count": 61,
   "id": "5b29428b",
   "metadata": {},
   "outputs": [
    {
     "name": "stdout",
     "output_type": "stream",
     "text": [
      " outliers for ODI-RUNS-S is 10\n",
      " outliers for SOLD PRICE is 8\n",
      " outliers for BASE PRICE is 3\n",
      " outliers for HS is 0\n"
     ]
    }
   ],
   "source": [
    "# as it is not very clear from the graph we will calculate it manually\n",
    "columns=['ODI-RUNS-S','SOLD PRICE','BASE PRICE','HS']\n",
    "\n",
    "for i in columns:\n",
    "    Q1=df[i].quantile(0.25)\n",
    "    Q3=df[i].quantile(0.75)\n",
    "    IQR=Q3-Q1\n",
    "\n",
    "    lower_bound=Q1-1.5*IQR\n",
    "    upper_bound=Q3+1.5*IQR\n",
    "\n",
    "    outliers=df[(df[i]<lower_bound)|(df[i]>upper_bound)].shape[0]\n",
    "    print(f' outliers for {i} is {outliers}')"
   ]
  },
  {
   "cell_type": "code",
   "execution_count": null,
   "id": "107caaac",
   "metadata": {},
   "outputs": [],
   "source": []
  },
  {
   "cell_type": "code",
   "execution_count": null,
   "id": "2010172d",
   "metadata": {},
   "outputs": [],
   "source": []
  }
 ],
 "metadata": {
  "kernelspec": {
   "display_name": "Python 3 (ipykernel)",
   "language": "python",
   "name": "python3"
  },
  "language_info": {
   "codemirror_mode": {
    "name": "ipython",
    "version": 3
   },
   "file_extension": ".py",
   "mimetype": "text/x-python",
   "name": "python",
   "nbconvert_exporter": "python",
   "pygments_lexer": "ipython3",
   "version": "3.9.12"
  }
 },
 "nbformat": 4,
 "nbformat_minor": 5
}
